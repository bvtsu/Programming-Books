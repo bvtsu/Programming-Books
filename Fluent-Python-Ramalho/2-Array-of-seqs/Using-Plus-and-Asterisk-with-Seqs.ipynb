{
 "cells": [
  {
   "cell_type": "markdown",
   "source": [
    "# Using + and * with seqs"
   ],
   "metadata": {}
  },
  {
   "cell_type": "markdown",
   "source": [
    "Usually (have not encountered otherwise yet) both + and * operands must be of the same seq type, and the result is concatenation to a new seq of the same type rather than modification. New object is created, and operands are completely unchanged.\n",
    "\n",
    "Terminology reminder: The val that the operator operates on is called the operand. E.g.: >>> 2+3 5. Here, + is the operator. 2 and 3 are operands and 5 is the output of the operation.\n",
    "\n",
    "'*' multiplies the sequence\n",
    "'+' adds sequences"
   ],
   "metadata": {}
  },
  {
   "cell_type": "code",
   "execution_count": 22,
   "source": [
    "l = [1, 2, 3]\n",
    "print(l * 5)\n",
    "print(l + l)\n",
    "print( 5 * 'abcd')\n",
    "\n",
    "#Be careful with this approach, as the new inner lists refer to the same list -- see Ex2-13 in the next section\n",
    "print([[1, 2, 3]] * 3) # inner lists [1, 2, 3] and tuples (1, 2, 3) are treated as indiv eles to be concatenated\n",
    "print([(1, 2, 3)] * 3)\n",
    "print(((1, 2, 3)) * 3) # concatenates same as (1, 2, 3) * 3\n",
    "print(([1, 2, 3]) * 3) # concatenates same as [1, 2, 3] * 3\n",
    "print([[[1]]] * 3) # here, [[1]] is the list element to be multiplied"
   ],
   "outputs": [
    {
     "output_type": "stream",
     "name": "stdout",
     "text": [
      "[1, 2, 3, 1, 2, 3, 1, 2, 3, 1, 2, 3, 1, 2, 3]\n",
      "[1, 2, 3, 1, 2, 3]\n",
      "abcdabcdabcdabcdabcd\n",
      "[[1, 2, 3], [1, 2, 3], [1, 2, 3]]\n",
      "[(1, 2, 3), (1, 2, 3), (1, 2, 3)]\n",
      "(1, 2, 3, 1, 2, 3, 1, 2, 3)\n",
      "[1, 2, 3, 1, 2, 3, 1, 2, 3]\n",
      "[[[1]], [[1]], [[1]]]\n"
     ]
    }
   ],
   "metadata": {}
  },
  {
   "cell_type": "markdown",
   "source": [
    "## Pitfalls of using * to initialize a list of lists\n",
    "Best way to initialize a list w/ certain num of nested lists is w/ listcomps. e.g.: distribute students in list of teams, representing squares on a game board (tic-tac-toe, see Ex2-12 below)"
   ],
   "metadata": {}
  },
  {
   "cell_type": "code",
   "execution_count": 21,
   "source": [
    "board = [['_'] * 3 for i in range(3)] #for loop tells us this multiplication will occur 3 times when i = (0, 1, 2)\n",
    "print(board)\n",
    "board[1][2] = 'X' #replace ele at second index within the first index inner list with X\n",
    "print(board)"
   ],
   "outputs": [
    {
     "output_type": "stream",
     "name": "stdout",
     "text": [
      "[['_', '_', '_'], ['_', '_', '_'], ['_', '_', '_']]\n",
      "[['_', '_', '_'], ['_', '_', 'X'], ['_', '_', '_']]\n"
     ]
    }
   ],
   "metadata": {}
  },
  {
   "cell_type": "markdown",
   "source": [
    "Ex2-13 depicts the wrong way to go about this (more in Ch8):"
   ],
   "metadata": {}
  },
  {
   "cell_type": "code",
   "execution_count": 40,
   "source": [
    "weird_board = [['_'] * 3] * 3\n",
    "print(weird_board) # looks the same as in Ex2-12, but...\n",
    "weird_board[1][2] = 'X'\n",
    "print(weird_board) # the same replacement results in the second index of every inner list being affected\n",
    "\n",
    "# To illustrate this further...\n",
    "weird_board[0][2] = 'X' # replace second index of 0th index inner list\n",
    "print(weird_board) # same as replacing 1st index inner list\n",
    "weird_board[2][2] = 'X' # replace second index of 2nd index inner list\n",
    "print(weird_board)  # same as replacing 1st index inner list\n",
    "\n",
    "# What is actually happening in line 1 of this Ex2-13\n",
    "row = ['_'] * 3 #referenced before loop\n",
    "board = []\n",
    "for i in range(3):\n",
    "    board.append(row) #same row being appended\n",
    "print(\"\\nEx2-13:\")\n",
    "print(board)\n",
    "board[0][2] = 'X'\n",
    "print(board)\n",
    "\n",
    "# Compared to Ex2-12\n",
    "board = []\n",
    "for i in range(3):\n",
    "    row = ['_'] * 3 # new row referenced during each iteration\n",
    "    board.append(row) # new row appended\n",
    "print(\"\\nEx2-12:\")\n",
    "print(board)\n",
    "board[0][2] = 'X'\n",
    "print(board)"
   ],
   "outputs": [
    {
     "output_type": "stream",
     "name": "stdout",
     "text": [
      "[['_', '_', '_'], ['_', '_', '_'], ['_', '_', '_']]\n",
      "[['_', '_', 'X'], ['_', '_', 'X'], ['_', '_', 'X']]\n",
      "[['_', '_', 'X'], ['_', '_', 'X'], ['_', '_', 'X']]\n",
      "[['_', '_', 'X'], ['_', '_', 'X'], ['_', '_', 'X']]\n",
      "\n",
      "Ex2-13:\n",
      "[['_', '_', '_'], ['_', '_', '_'], ['_', '_', '_']]\n",
      "[['_', '_', 'X'], ['_', '_', 'X'], ['_', '_', 'X']]\n",
      "\n",
      "Ex2-12:\n",
      "[['_', '_', '_'], ['_', '_', '_'], ['_', '_', '_']]\n",
      "[['_', '_', 'X'], ['_', '_', '_'], ['_', '_', '_']]\n"
     ]
    }
   ],
   "metadata": {}
  },
  {
   "cell_type": "code",
   "execution_count": null,
   "source": [],
   "outputs": [],
   "metadata": {}
  }
 ],
 "metadata": {
  "orig_nbformat": 4,
  "language_info": {
   "name": "python",
   "version": "3.9.7",
   "mimetype": "text/x-python",
   "codemirror_mode": {
    "name": "ipython",
    "version": 3
   },
   "pygments_lexer": "ipython3",
   "nbconvert_exporter": "python",
   "file_extension": ".py"
  },
  "kernelspec": {
   "name": "python3",
   "display_name": "Python 3.9.7 64-bit ('Daugherty': conda)"
  },
  "interpreter": {
   "hash": "fbae935fb48667cdad60896ab9fb99ec19eb103ea1ab74c375af631ee811078c"
  }
 },
 "nbformat": 4,
 "nbformat_minor": 2
}