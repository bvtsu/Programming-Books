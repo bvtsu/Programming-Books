{
 "cells": [
  {
   "cell_type": "code",
   "execution_count": 15,
   "metadata": {},
   "outputs": [
    {
     "name": "stdout",
     "output_type": "stream",
     "text": [
      "Woo hoo!\n",
      "Starting session: 10/26/2021 23:11:08\n"
     ]
    }
   ],
   "source": [
    "from Session.Session import seshTrack"
   ]
  },
  {
   "cell_type": "markdown",
   "metadata": {},
   "source": [
    "Two bisect module functions that use binary search algorithm to find and insert items into sorted seqs\n",
    "- bisect(haystack, needle, optional lo = 0, optional hi = len(haystack))\n",
    "    - binary search for needle in haystack (sortedseq)\n",
    "    - locates position for needle insertion in haystack in ascending order\n",
    "        - all items appearing up to this position are < or = needle\n",
    "    - output of bisect(haystack, needle) can be used as index argument to haystack.insert(index, needle)... but just use insort (does both, and faster)\n",
    "    - also known as bisect_right -- when needle comparison is equal to an item, returns insertion point after the existing item\n",
    "    - see below for differences between bisect_right and sister function bisect_left (important in cases such as with 1 and 1.0)\n",
    "- insort()\n",
    "\n",
    "NOTE [ **Date Completed** ]: See Raymond Hettinger's more user-friendly Sorted Collection recipe leveraging the bisect module."
   ]
  },
  {
   "cell_type": "code",
   "execution_count": 4,
   "metadata": {},
   "outputs": [
    {
     "name": "stdout",
     "output_type": "stream",
     "text": [
      "DEMO: bisect_right\n",
      "haystack ->  1  4  5  6  8 12 15 20 21 23 23 26 29 30\n",
      "31 @ 14      |  |  |  |  |  |  |  |  |  |  |  |  |  |31\n",
      "30 @ 14      |  |  |  |  |  |  |  |  |  |  |  |  |  |30\n",
      "29 @ 13      |  |  |  |  |  |  |  |  |  |  |  |  |29\n",
      "23 @ 11      |  |  |  |  |  |  |  |  |  |  |23\n",
      "22 @  9      |  |  |  |  |  |  |  |  |22\n",
      "10 @  5      |  |  |  |  |10\n",
      " 8 @  5      |  |  |  |  |8 \n",
      " 5 @  3      |  |  |5 \n",
      " 2 @  1      |2 \n",
      " 1 @  1      |1 \n",
      " 0 @  0    0 \n"
     ]
    }
   ],
   "source": [
    "#Ex2-17 using bisect with carefully chosen needles, straight from fluentpython/example-code\n",
    "\n",
    "# BEGIN BISECT_DEMO\n",
    "import bisect\n",
    "import sys\n",
    "\n",
    "HAYSTACK = [1, 4, 5, 6, 8, 12, 15, 20, 21, 23, 23, 26, 29, 30]\n",
    "NEEDLES = [0, 1, 2, 5, 8, 10, 22, 23, 29, 30, 31]\n",
    "\n",
    "ROW_FMT = '{0:2d} @ {1:2d}    {2}{0:<2d}' # 1st ref 2d, 2nd ref 2d, 3rd ref no changes, 1st ref again <2d (left-align)\n",
    "# I don't think d does anything... revisit this 10/12/2021\n",
    "# EXTRA: You can pad 0's to the fixed width by adjusting 2d to 02d in format\n",
    "\n",
    "def demo(bisect_fn):\n",
    "    for needle in reversed(NEEDLES): # iterate in reversed order, 31 is first here\n",
    "        position = bisect_fn(HAYSTACK, needle)  # <1> needle 31 is pos 14, 30 is position 14, 29 is position 13 [...]\n",
    "        offset = position * '  |'  # <2> pattern of vertical bars proportional to offset (aligns with haystack 2d)\n",
    "        print(ROW_FMT.format(needle, position, offset))  # <3> print formatted row w/ needle and insertion point\n",
    "\n",
    "if __name__ == '__main__':\n",
    "\n",
    "    if sys.argv[-1] == 'left':    # <4> Test this out... chooses fxn based on last cmdline argument\n",
    "        bisect_fn = bisect.bisect_left\n",
    "    else:\n",
    "        bisect_fn = bisect.bisect\n",
    "\n",
    "    print('DEMO:', bisect_fn.__name__)  # <5> print header with name of function\n",
    "    print('haystack ->', ' '.join('%2d' % n for n in HAYSTACK))\n",
    "    demo(bisect_fn)"
   ]
  },
  {
   "cell_type": "code",
   "execution_count": 5,
   "metadata": {},
   "outputs": [
    {
     "name": "stdout",
     "output_type": "stream",
     "text": [
      "DEMO: bisect_left\n",
      "haystack ->  1  4  5  6  8 12 15 20 21 23 23 26 29 30\n",
      "31 @ 14      |  |  |  |  |  |  |  |  |  |  |  |  |  |31\n",
      "30 @ 13      |  |  |  |  |  |  |  |  |  |  |  |  |30\n",
      "29 @ 12      |  |  |  |  |  |  |  |  |  |  |  |29\n",
      "23 @  9      |  |  |  |  |  |  |  |  |23\n",
      "22 @  9      |  |  |  |  |  |  |  |  |22\n",
      "10 @  5      |  |  |  |  |10\n",
      " 8 @  4      |  |  |  |8 \n",
      " 5 @  2      |  |5 \n",
      " 2 @  1      |2 \n",
      " 1 @  0    1 \n",
      " 0 @  0    0 \n"
     ]
    }
   ],
   "source": [
    "#Ex2-17 specifying bisect_left\n",
    "\n",
    "# BEGIN BISECT_DEMO\n",
    "import bisect\n",
    "import sys\n",
    "\n",
    "HAYSTACK = [1, 4, 5, 6, 8, 12, 15, 20, 21, 23, 23, 26, 29, 30]\n",
    "NEEDLES = [0, 1, 2, 5, 8, 10, 22, 23, 29, 30, 31]\n",
    "\n",
    "ROW_FMT = '{0:2d} @ {1:2d}    {2}{0:<2d}' # 1st ref 2d, 2nd ref 2d, 3rd ref no changes, 1st ref again <2d (left-align)\n",
    "# EXTRA: You can pad 0's to the fixed width by adjusting 2d to 02d in format\n",
    "\n",
    "def demo(bisect_fn):\n",
    "    for needle in reversed(NEEDLES): # iterate in reversed order, 31 is first here\n",
    "        position = bisect_fn(HAYSTACK, needle)  # <1> needle 31 is pos 14, 30 is position 14, 29 is position 13 [...]\n",
    "        offset = position * '  |'  # <2> pattern of vertical bars proportional to offset (aligns with haystack 2d)\n",
    "        print(ROW_FMT.format(needle, position, offset))  # <3> print formatted row w/ needle and insertion point\n",
    "\n",
    "if __name__ == '__main__':\n",
    "\n",
    "    if sys.argv[-1] == 'left':    # <4> Test this out... chooses fxn based on last cmdline argument\n",
    "        bisect_fn = bisect.bisect_left\n",
    "    else:\n",
    "        bisect_fn = bisect.bisect_left #forcing bisect_left in jupyter\n",
    "\n",
    "    print('DEMO:', bisect_fn.__name__)  # <5> print header with name of function\n",
    "    print('haystack ->', ' '.join('%2d' % n for n in HAYSTACK))\n",
    "    demo(bisect_fn)"
   ]
  },
  {
   "cell_type": "code",
   "execution_count": 2,
   "metadata": {},
   "outputs": [],
   "source": [
    "#Ex 2-18 convert test score to letter grade\n",
    "import bisect\n",
    "\n",
    "def grade(score, breakpoints=[60, 70, 80, 90], grades='FDCBA'):\n",
    "    i = bisect.bisect(breakpoints, score)\n",
    "    return(grades[i])"
   ]
  },
  {
   "cell_type": "code",
   "execution_count": 11,
   "metadata": {},
   "outputs": [
    {
     "name": "stdout",
     "output_type": "stream",
     "text": [
      "['F', 'A', 'C', 'C', 'B', 'A', 'A']\n",
      "[(52, 'F'), (26, 'F'), (74, 'C'), (40, 'F'), (82, 'B'), (4, 'F'), (62, 'D'), (56, 'F'), (32, 'F'), (47, 'F')]\n"
     ]
    }
   ],
   "source": [
    "import random\n",
    "\n",
    "classGrades = [grade(score) for score in [37, 99, 77, 70, 89, 90, 100]] #fixed scores->grades\n",
    "randGrades = [(score, grade(score)) for score in random.sample(range(100), 10)] #random scores->grades\n",
    "\n",
    "print(classGrades)\n",
    "print(randGrades)"
   ]
  },
  {
   "cell_type": "markdown",
   "metadata": {},
   "source": [
    "bisect is a faster replacement for the index method when searching through large seqs of numbers. How large would it need to be for this to be worth it? [**Revisit Date**]\n",
    "\n",
    "Given a sorted sequence, bisect.insort always keeps the sequence sorted."
   ]
  },
  {
   "cell_type": "code",
   "execution_count": 13,
   "metadata": {},
   "outputs": [],
   "source": [
    "#Ex 2-19 insort keeps sorted seq alwaysed sorted\n",
    "import bisect\n",
    "import random\n",
    "SIZE = 7\n",
    "random.seed(1729)\n",
    "my_list = []\n",
    "for i in range (SIZE):\n",
    "    new_item = random.randrange(SIZE*2)"
   ]
  },
  {
   "cell_type": "code",
   "execution_count": 16,
   "metadata": {},
   "outputs": [
    {
     "name": "stdout",
     "output_type": "stream",
     "text": [
      "You deserve a ninja turtle named after you\n",
      "Last edited: 10/26/2021 23:11:16\n"
     ]
    }
   ],
   "source": [
    "seshTrack(\"Last edited:\")"
   ]
  },
  {
   "cell_type": "code",
   "execution_count": null,
   "metadata": {},
   "outputs": [],
   "source": []
  }
 ],
 "metadata": {
  "interpreter": {
   "hash": "daff8f55d46c22d548dcae1214942360c69b01b6ac87629cb546efe561150fa1"
  },
  "kernelspec": {
   "display_name": "Python 3.9.7 64-bit ('Daugherty': conda)",
   "name": "python3"
  },
  "language_info": {
   "codemirror_mode": {
    "name": "ipython",
    "version": 3
   },
   "file_extension": ".py",
   "mimetype": "text/x-python",
   "name": "python",
   "nbconvert_exporter": "python",
   "pygments_lexer": "ipython3",
   "version": "3.9.7"
  },
  "orig_nbformat": 4
 },
 "nbformat": 4,
 "nbformat_minor": 2
}
