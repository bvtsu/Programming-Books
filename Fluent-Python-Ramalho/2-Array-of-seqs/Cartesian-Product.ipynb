{
 "cells": [
  {
   "cell_type": "markdown",
   "source": [
    "# Cartesian Product through listcomps and generator expressions"
   ],
   "metadata": {}
  },
  {
   "cell_type": "markdown",
   "source": [
    "The Cartesian product of two lists is the set containing all ordered pairs (x, y) such that x belongs to the first list and y belongs to the second. For example, the Cartesian product of [1, 2] and [\"a\"] is [(1, \"a\"), (2, \"a\")]."
   ],
   "metadata": {}
  },
  {
   "cell_type": "markdown",
   "source": [
    "## Cartesian Product through listcomps"
   ],
   "metadata": {}
  },
  {
   "cell_type": "markdown",
   "source": [
    "1) Cartesian product of t-shirts with options of 2 colors and 3 sizes using listcomp, organizing combinations by color."
   ],
   "metadata": {}
  },
  {
   "cell_type": "code",
   "execution_count": 2,
   "source": [
    "colors = ['black', 'white']\n",
    "sizes = ['S','M','L']\n",
    "tshirts = [(color, size) for color in colors for size in sizes] #combinations iterate through color first\n",
    "tshirts\n"
   ],
   "outputs": [
    {
     "output_type": "execute_result",
     "data": {
      "text/plain": [
       "[('black', 'S'),\n",
       " ('black', 'M'),\n",
       " ('black', 'L'),\n",
       " ('white', 'S'),\n",
       " ('white', 'M'),\n",
       " ('white', 'L')]"
      ]
     },
     "metadata": {},
     "execution_count": 2
    }
   ],
   "metadata": {}
  },
  {
   "cell_type": "markdown",
   "source": [
    "2) Understanding the listcomp above with open for loops and print"
   ],
   "metadata": {}
  },
  {
   "cell_type": "code",
   "execution_count": 3,
   "source": [
    "for color in colors:\n",
    "    for size in sizes:\n",
    "        print((color,size))"
   ],
   "outputs": [
    {
     "output_type": "stream",
     "name": "stdout",
     "text": [
      "('black', 'S')\n",
      "('black', 'M')\n",
      "('black', 'L')\n",
      "('white', 'S')\n",
      "('white', 'M')\n",
      "('white', 'L')\n"
     ]
    }
   ],
   "metadata": {}
  },
  {
   "cell_type": "markdown",
   "source": [
    "3) Alternatively, iterate through sizes first to organize by size"
   ],
   "metadata": {}
  },
  {
   "cell_type": "code",
   "execution_count": 4,
   "source": [
    "tshirts = [(color, size) for size in sizes #combinations iterate through sizes first\n",
    "                         for color in colors] #use line break to visualize listcomp order better\n",
    "tshirts"
   ],
   "outputs": [
    {
     "output_type": "execute_result",
     "data": {
      "text/plain": [
       "[('black', 'S'),\n",
       " ('white', 'S'),\n",
       " ('black', 'M'),\n",
       " ('white', 'M'),\n",
       " ('black', 'L'),\n",
       " ('white', 'L')]"
      ]
     },
     "metadata": {},
     "execution_count": 4
    }
   ],
   "metadata": {}
  },
  {
   "cell_type": "markdown",
   "source": [
    "## Cartesian Product through generator expressions"
   ],
   "metadata": {}
  },
  {
   "cell_type": "markdown",
   "source": [
    "Compared to a listcomp, a genexp saves memory by yielding items 1-by-1 using the iterator protocol instead of building a whole list just to feed another constructor. They share the same syntax as listcomps, but are enclosed in parentheses rather than brackets."
   ],
   "metadata": {}
  },
  {
   "cell_type": "markdown",
   "source": [
    "1. Initializing a tuple from a genexp. If genexp is the only argument in the fxn call, there is no need for enclosing parentheses."
   ],
   "metadata": {}
  },
  {
   "cell_type": "code",
   "execution_count": 5,
   "source": [
    "symbols = '$¢£¥€¤'\n",
    "tuple(ord(symbol) for symbol in symbols)"
   ],
   "outputs": [
    {
     "output_type": "execute_result",
     "data": {
      "text/plain": [
       "(36, 162, 163, 165, 8364, 164)"
      ]
     },
     "metadata": {},
     "execution_count": 5
    }
   ],
   "metadata": {}
  },
  {
   "cell_type": "markdown",
   "source": [
    "2. Initializing an array constructor from a genexp. The array constructor takes 2 args, so the parentheses around the genexp is now mandatory. The first arg determines the storage type (Int)."
   ],
   "metadata": {}
  },
  {
   "cell_type": "code",
   "execution_count": 16,
   "source": [
    "import array\n",
    "array.array('I', (ord(symbol) for symbol in symbols))"
   ],
   "outputs": [
    {
     "output_type": "execute_result",
     "data": {
      "text/plain": [
       "array('I', [36, 162, 163, 165, 8364, 164])"
      ]
     },
     "metadata": {},
     "execution_count": 16
    }
   ],
   "metadata": {}
  },
  {
   "cell_type": "markdown",
   "source": [
    "The follow genexp yields the Cartesian Product items 1-by-1; it will not produce a list with all combinations."
   ],
   "metadata": {}
  },
  {
   "cell_type": "code",
   "execution_count": 19,
   "source": [
    "colors = ['black', 'white']\n",
    "sizes = ['S','M','L']\n",
    "for tshirt in ('{} {}'.format(c, s) for c in colors for s in sizes):\n",
    "    print(tshirt)"
   ],
   "outputs": [
    {
     "output_type": "stream",
     "name": "stdout",
     "text": [
      "black S\n",
      "black M\n",
      "black L\n",
      "white S\n",
      "white M\n",
      "white L\n"
     ]
    }
   ],
   "metadata": {}
  },
  {
   "cell_type": "code",
   "execution_count": null,
   "source": [],
   "outputs": [],
   "metadata": {}
  }
 ],
 "metadata": {
  "orig_nbformat": 4,
  "language_info": {
   "name": "python",
   "version": "3.9.7",
   "mimetype": "text/x-python",
   "codemirror_mode": {
    "name": "ipython",
    "version": 3
   },
   "pygments_lexer": "ipython3",
   "nbconvert_exporter": "python",
   "file_extension": ".py"
  },
  "kernelspec": {
   "name": "python3",
   "display_name": "Python 3.9.7 64-bit ('Daugherty': conda)"
  },
  "interpreter": {
   "hash": "fbae935fb48667cdad60896ab9fb99ec19eb103ea1ab74c375af631ee811078c"
  }
 },
 "nbformat": 4,
 "nbformat_minor": 2
}