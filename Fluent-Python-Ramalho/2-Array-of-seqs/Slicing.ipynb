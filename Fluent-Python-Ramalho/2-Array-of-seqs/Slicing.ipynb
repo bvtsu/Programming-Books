{
 "cells": [
  {
   "cell_type": "markdown",
   "source": [
    "# Slices\n",
    "## Slices and Ranges exclude the last item\n",
    "Some basics:\n",
    "- range(3) and my_list[:3] both produce 3 items\n",
    "- stop - start gets length of slice or range, e.g. len(my_list[:3] - my_list[:1]) = 2\n",
    "- easy to split sequences into two parts with my_list[:x] and my_list[x:]\n",
    "    - e.g. l = [10, 20, 30, 40, 50], where l[:2] = [10, 20], and l[2:] = everything else\n",
    "- in my_list[a:b:c], c corresponds to the stride of the slice range in question"
   ],
   "metadata": {}
  },
  {
   "cell_type": "code",
   "execution_count": 4,
   "source": [
    "s = 'bicycle'\n",
    "print(s[::3]) #stride 3, [0] = b, [3] = y, [6] = e\n",
    "print(s[::-1]) #stride 1 in reverse direction\n",
    "print(s[::-2]) #stride 2 in reverse direction, [-1] = e, [-3] = c, [-5] = c, [-7] = b"
   ],
   "outputs": [
    {
     "output_type": "stream",
     "name": "stdout",
     "text": [
      "bye\n",
      "elcycib\n",
      "eccb\n"
     ]
    }
   ],
   "metadata": {}
  },
  {
   "cell_type": "markdown",
   "source": [],
   "metadata": {}
  }
 ],
 "metadata": {
  "orig_nbformat": 4,
  "language_info": {
   "name": "python",
   "version": "3.9.7",
   "mimetype": "text/x-python",
   "codemirror_mode": {
    "name": "ipython",
    "version": 3
   },
   "pygments_lexer": "ipython3",
   "nbconvert_exporter": "python",
   "file_extension": ".py"
  },
  "kernelspec": {
   "name": "python3",
   "display_name": "Python 3.9.7 64-bit ('Daugherty': conda)"
  },
  "interpreter": {
   "hash": "fbae935fb48667cdad60896ab9fb99ec19eb103ea1ab74c375af631ee811078c"
  }
 },
 "nbformat": 4,
 "nbformat_minor": 2
}