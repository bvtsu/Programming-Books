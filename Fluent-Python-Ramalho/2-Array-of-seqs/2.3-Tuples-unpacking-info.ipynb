{
 "cells": [
  {
   "cell_type": "markdown",
   "source": [
    "# Tuples are not just immutable lists"
   ],
   "metadata": {}
  },
  {
   "cell_type": "markdown",
   "source": [
    "Tuples are commonly thought of as immutable lists. Expanding their role, they're also useful as records with no field names."
   ],
   "metadata": {}
  },
  {
   "cell_type": "markdown",
   "source": [
    "## Tuples as records\n",
    "Use tuples when you want each item in the tuple to hold data for one field, where the position holds meaning. In the following example (Ex2.7), the meaning of the data enclosed in tuples is given by its position in the tuple and if sorted, would lose information. To pull these records while retaining their information, we can \"unpack\" the tuples to variables."
   ],
   "metadata": {}
  },
  {
   "cell_type": "code",
   "execution_count": 34,
   "source": [
    "#Parallel assignment\n",
    "lax_coordinates = (33.9425, -118.408056) #latitude, longitude\n",
    "lat, long = lax_coordinates #Tuple unpacking by parallel assignment #1; specific to given var order\n",
    "\n",
    "city, year, pop, chg, area = ('Tokyo', 2003, 32450, 0.66, 8014) #Parallel assignment #2\n",
    "\n",
    "#Unpacking with for loop+print()\n",
    "traveler_ids = [('USA', '31195855'), ('BRA','CE342567'),\n",
    "    ('ESP','XDA205856')] #in the form of country_code, passport_num\n",
    "for passport in sorted(traveler_ids): #iterate using variable that refers to two items per tuple ele\n",
    "    print('%s/%s' % passport) #Unpacking with print()\n",
    "                              #Note: % w/ tuples treats each item as a sep field; must match exact num of items\n",
    "                              #What about .format()? Doesn't seem to work\n",
    "\n",
    "#Unpacking with for loop\n",
    "for country, _ in traveler_ids: #unpacking the tuple with a for loop, _ = dummy variable for throwaway items\n",
    "    print(country)\n",
    "\n",
    "#Unpacking application to swap variables without using a temp var\n",
    "a = 30\n",
    "b = 1000\n",
    "print(\"Original tuple:\", (a, b))\n",
    "b, a = a, b\n",
    "print(\"Swapped via tuple unpacking:\", (a, b))\n",
    "\n",
    "#Unpacking using * star as an argument\n",
    "divmod(20, 8) # = (2, 4)\n",
    "t = (20, 8)\n",
    "divmod(*t) # using *, also = (2, 4)\n",
    "quotient, remainder = divmod(*t) #unpack parallel assignment using *\n",
    "print((quotient, remainder))"
   ],
   "outputs": [
    {
     "output_type": "stream",
     "name": "stdout",
     "text": [
      "BRA/CE342567\n",
      "ESP/XDA205856\n",
      "USA/31195855\n",
      "USA\n",
      "BRA\n",
      "ESP\n",
      "Original tuple: (30, 1000)\n",
      "Swapped via tuple unpacking: (1000, 30)\n",
      "(2, 4)\n"
     ]
    }
   ],
   "metadata": {}
  },
  {
   "cell_type": "markdown",
   "source": [
    "Tuple unpacking can be used to increase the convenience of other functions such as os.path.split(), which builds a tuple (path, last_part) from a filesystem path:"
   ],
   "metadata": {}
  },
  {
   "cell_type": "code",
   "execution_count": 39,
   "source": [
    "import os\n",
    "_, filename = os.path.split('/home/bri/.ssh/idrsa.pub') #dummy var for path; assign only last_part to a meaningful var\n",
    "filename"
   ],
   "outputs": [
    {
     "output_type": "execute_result",
     "data": {
      "text/plain": [
       "'idrsa.pub'"
      ]
     },
     "metadata": {},
     "execution_count": 39
    }
   ],
   "metadata": {}
  },
  {
   "cell_type": "markdown",
   "source": [
    "### Caution: When writing internationalized software, _ is not a good dummy var... _ is used as an alias for text.gettext"
   ],
   "metadata": {}
  },
  {
   "cell_type": "markdown",
   "source": [
    "## Nested Tuple unpacking\n",
    "Examples of tuples within tuples"
   ],
   "metadata": {}
  },
  {
   "cell_type": "markdown",
   "source": [
    "Tuples holding a record with numerous fields, one of which is a coordinate pair (in a tuple)"
   ],
   "metadata": {}
  },
  {
   "cell_type": "code",
   "execution_count": 2,
   "source": [
    "metro_areas = [\n",
    "    ('Tokyo', 'JP', 36.933, (35.689722, 139.691667)),\n",
    "    ('Delhi NCR', 'IN', 21.935, (28.613889, 77.208889)),\n",
    "    ('Mexico City', 'MX', 20.142, (19.433333, -99.133333)),\n",
    "    ('New York-Newark', 'US', 20.104, (40.80611, -74.020386)),\n",
    "    ('Sao Paulo', 'BR', 19.649, (-23.547778, -46.635833))\n",
    "]"
   ],
   "outputs": [],
   "metadata": {}
  },
  {
   "cell_type": "markdown",
   "source": [
    "Assigning the last field (coordinates) to a tuple for unpacking\n",
    "Notes:\n",
    "^ aligns the output string to the center of the remaining space\n",
    "\n",
    ":int sets the amount of space taken by the string+spaces (9 -> lat. is 4 + 5 spaces) aka width control\n",
    "\n",
    "you can set the amount of the string or int you want to show with\n",
    "- int: f to control num of values to show after the decimal (.2f is 2 vals after decimal)\n",
    "- str: s to control num of chars to show (.2s is the starting two chars of a str)\n",
    "\n",
    "Right align: use > for str right-alignment ({:>15} for example sets your str to the right side of the width:15 space)"
   ],
   "metadata": {}
  },
  {
   "cell_type": "code",
   "execution_count": 28,
   "source": [
    "print('{:15} | {:^9} | {:^9}'.format('', 'lat.', 'long.'))"
   ],
   "outputs": [
    {
     "output_type": "stream",
     "name": "stdout",
     "text": [
      "                |   lat.    |   long.  \n"
     ]
    }
   ],
   "metadata": {}
  },
  {
   "cell_type": "markdown",
   "source": [
    "We use this syntax to set a defined output format for the information we unpack from the tuple"
   ],
   "metadata": {}
  },
  {
   "cell_type": "code",
   "execution_count": 30,
   "source": [
    "fmt = '{:15} | {:9.4f} | {:9.4f}'\n",
    "for name, cc, pop, (latitude, longitude) in metro_areas:\n",
    "    if longitude <= 0: #Filter for only metropolitan areas in the western hemisphere\n",
    "        print(fmt.format(name, latitude, longitude)) #print using defined output format and .format()"
   ],
   "outputs": [
    {
     "output_type": "stream",
     "name": "stdout",
     "text": [
      "Mexico City     |   19.4333 |  -99.1333\n",
      "New York-Newark |   40.8061 |  -74.0204\n",
      "Sao Paulo       |  -23.5478 |  -46.6358\n"
     ]
    }
   ],
   "metadata": {}
  },
  {
   "cell_type": "markdown",
   "source": [
    "But what if we wanted the fields to just be named, for even more readability of records?"
   ],
   "metadata": {}
  },
  {
   "cell_type": "markdown",
   "source": [
    "## Named Tuple type\n",
    "Tuple with field names and a class name are highly valuable to help debugging\n",
    "\n",
    "Additionally, classes built with namedtuple take same amt of memory as tuples because field names are stored in the class"
   ],
   "metadata": {}
  },
  {
   "cell_type": "code",
   "execution_count": 36,
   "source": [
    "# Recall Card namedtuple -- let's do something similar here for Ex2.9\n",
    "# Card = collections.namedtuple('Card',['rank','suit'])\n",
    "\n",
    "from collections import namedtuple\n",
    "City = namedtuple('City', 'name country population coordinates')\n",
    "tokyo = City('Tokyo', 'JP', 36.933, (35.689722, 139.691667))\n",
    "print(tokyo)\n",
    "print(tokyo.population)\n",
    "print(tokyo.coordinates)\n",
    "print(tokyo[1])"
   ],
   "outputs": [
    {
     "output_type": "stream",
     "name": "stdout",
     "text": [
      "City(name='Tokyo', country='JP', population=36.933, coordinates=(35.689722, 139.691667))\n",
      "36.933\n",
      "(35.689722, 139.691667)\n",
      "JP\n"
     ]
    }
   ],
   "metadata": {}
  },
  {
   "cell_type": "markdown",
   "source": [
    "How this works:\n",
    "1) two parameters: a class name and a list of field names\n",
    "2) data passed as positional arguments to the constructor\n",
    "3) fields can be accessed by name or index position when initialized\n",
    "\n",
    "alternative to: constructor tuple(), which takes an iterable (e.g. tuple(list_var), tuple(str_var))\n",
    "\n",
    "In addition to attributes inherited from tuple, named tuples have _fields class attribute, _make(iterable) class method, and _asdict() instance method"
   ],
   "metadata": {}
  },
  {
   "cell_type": "markdown",
   "source": [
    "## Tuples as immutable lists\n",
    "Similarity b/w lists and tuples:\n",
    "- Tuples support all list methods that DO NOT involve adding or removing items (immutable)\n",
    "    - Exception: Tuples also cannot use the __reversed__ method for optimization\n",
    "        - You cannot reverse the original tuple in place (immutable)\n",
    "        - reversed(my_tuple) works to return an iterator\n",
    "        - my_tuple[::-1] works to return a new tuple in reverse order (stride in reverse direction)"
   ],
   "metadata": {}
  },
  {
   "cell_type": "code",
   "execution_count": 1,
   "source": [
    "my_tuple = (26.12312, 241.31231, 2113.31231,21.1312)\n",
    "try: #using __reversed__\n",
    "    my_tuple.reversed()\n",
    "except AttributeError:\n",
    "    print(\"__reversed__ failed: 'tuple' object has no attribute 'reversed'\")\n",
    "\n",
    "rev_tuple = tuple(reversed(my_tuple)) #using reversed() to return iterator, which we store here to another tuple\n",
    "print(\"Reversed():\", rev_tuple)\n",
    "\n",
    "rev_tuple = my_tuple[::-1] #new tuple, slice by striding in the reverse direction\n",
    "print(\"Sliced with [::-1]:\", rev_tuple)"
   ],
   "outputs": [
    {
     "output_type": "stream",
     "name": "stdout",
     "text": [
      "__reversed__ failed: 'tuple' object has no attribute 'reversed'\n",
      "Reversed(): (21.1312, 2113.31231, 241.31231, 26.12312)\n",
      "Sliced with [::-1]: (21.1312, 2113.31231, 241.31231, 26.12312)\n"
     ]
    }
   ],
   "metadata": {}
  },
  {
   "cell_type": "markdown",
   "source": [],
   "metadata": {}
  }
 ],
 "metadata": {
  "orig_nbformat": 4,
  "language_info": {
   "name": "python",
   "version": "3.9.7",
   "mimetype": "text/x-python",
   "codemirror_mode": {
    "name": "ipython",
    "version": 3
   },
   "pygments_lexer": "ipython3",
   "nbconvert_exporter": "python",
   "file_extension": ".py"
  },
  "kernelspec": {
   "name": "python3",
   "display_name": "Python 3.9.7 64-bit ('Daugherty': conda)"
  },
  "interpreter": {
   "hash": "fbae935fb48667cdad60896ab9fb99ec19eb103ea1ab74c375af631ee811078c"
  }
 },
 "nbformat": 4,
 "nbformat_minor": 2
}