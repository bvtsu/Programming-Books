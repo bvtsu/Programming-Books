{
 "cells": [
  {
   "cell_type": "markdown",
   "source": [
    "# list.sort and sorted built-in functions\n",
    "list.sort() sorts a list in-place (changes target, no new list)\n",
    "- this results in a none type (see below), telling us no new object was created\n",
    "- random.shuffle() also returns a none type, a sign that it functions in-place\n",
    "\n",
    "sorted(list) sorts an existing list into a new list\n",
    "- this returns the new list (see below)\n",
    "- works on immutable seqs and generators"
   ],
   "metadata": {}
  },
  {
   "cell_type": "code",
   "execution_count": 6,
   "source": [
    "l = [1, 4, 5, 7, 2, 3, 10, 6]\n",
    "print(l.sort()) # sorting in place, none type\n",
    "\n",
    "import random\n",
    "print(random.shuffle(l)) # similar none type\n",
    "\n",
    "print(sorted(l)) # sorting to a new list\n",
    "\n",
    "#regardless of type, sorted() always returns new list\n",
    "symbols = '$¢£¥€¤'\n",
    "t = (1, 4, 5, 7, 2, 3, 10, 6)\n",
    "print(ord(symbol) for symbol in symbols) # genexp\n",
    "print(sorted(ord(symbol) for symbol in symbols)) # new list from genexp\n",
    "print(sorted(t)) # new list from tuple"
   ],
   "outputs": [
    {
     "output_type": "stream",
     "name": "stdout",
     "text": [
      "None\n",
      "None\n",
      "[1, 2, 3, 4, 5, 6, 7, 10]\n",
      "<generator object <genexpr> at 0x7f8c415cc6d0>\n",
      "[36, 162, 163, 164, 165, 8364]\n",
      "[1, 2, 3, 4, 5, 6, 7, 10]\n"
     ]
    }
   ],
   "metadata": {}
  },
  {
   "cell_type": "markdown",
   "source": [
    "Both list.sort() and sorted() have 2 optional arguments:\n",
    "- reverse\n",
    "    - Default: reverse = False\n",
    "    - if True, return items in descending order\n",
    "- key\n",
    "    - Default is the identify function (look into this)\n",
    "    - key = str.lower performs a case-insensitive sort\n",
    "    - key = len sorts strings by character length"
   ],
   "metadata": {}
  },
  {
   "cell_type": "code",
   "execution_count": 20,
   "source": [
    "fruits = ['grape', 'Raspberry', 'apple', 'banana']\n",
    "\n",
    "# sorted(list)\n",
    "print(sorted(fruits), \"New list\") # sorted to new list\n",
    "print(fruits, \"Original\") # original unchanged\n",
    "print(sorted(fruits, key = str.lower), \"New list, key = str.lower\")\n",
    "print(sorted(fruits, reverse = True), \"New list, reversed\")\n",
    "print(sorted(fruits, key = len), \"New list, key = len\") # See * below\n",
    "print(sorted(fruits, key = len, reverse = True), \"New list, key = len, reversed\") # See * below\n",
    "\n",
    "#list.sort()\n",
    "print(fruits, \"Original\") # original still unchanged\n",
    "print(fruits.sort(), \".sort()\") # should be none\n",
    "print(fruits, \"Changed in-place\") # original now changed"
   ],
   "outputs": [
    {
     "output_type": "stream",
     "name": "stdout",
     "text": [
      "['Raspberry', 'apple', 'banana', 'grape'] New list\n",
      "['grape', 'Raspberry', 'apple', 'banana'] Original\n",
      "['apple', 'banana', 'grape', 'Raspberry'] New list, key = str.lower\n",
      "['grape', 'banana', 'apple', 'Raspberry'] New list, reversed\n",
      "['grape', 'apple', 'banana', 'Raspberry'] New list, key = len\n",
      "['Raspberry', 'banana', 'grape', 'apple'] New list, key = len, reversed\n",
      "['grape', 'Raspberry', 'apple', 'banana'] Original\n",
      "None .sort()\n",
      "['Raspberry', 'apple', 'banana', 'grape'] Changed in-place\n"
     ]
    }
   ],
   "metadata": {}
  },
  {
   "cell_type": "markdown",
   "source": [
    "* Note: We see that grape is before apple in both cases, because the sorting is stable. When the sort is stable, the two items with the same length are organized by the original order.\n",
    "\n",
    "Once sorted, they can be very efficiently searched. How? See the standard binary search algorithm..."
   ],
   "metadata": {}
  },
  {
   "cell_type": "code",
   "execution_count": null,
   "source": [],
   "outputs": [],
   "metadata": {}
  }
 ],
 "metadata": {
  "orig_nbformat": 4,
  "language_info": {
   "name": "python",
   "version": "3.9.7",
   "mimetype": "text/x-python",
   "codemirror_mode": {
    "name": "ipython",
    "version": 3
   },
   "pygments_lexer": "ipython3",
   "nbconvert_exporter": "python",
   "file_extension": ".py"
  },
  "kernelspec": {
   "name": "python3",
   "display_name": "Python 3.9.7 64-bit ('Daugherty': conda)"
  },
  "interpreter": {
   "hash": "fbae935fb48667cdad60896ab9fb99ec19eb103ea1ab74c375af631ee811078c"
  }
 },
 "nbformat": 4,
 "nbformat_minor": 2
}