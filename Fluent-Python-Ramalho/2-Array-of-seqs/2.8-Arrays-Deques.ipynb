{
 "cells": [
  {
   "cell_type": "code",
   "execution_count": 1,
   "metadata": {},
   "outputs": [
    {
     "name": "stdout",
     "output_type": "stream",
     "text": [
      "😎\n",
      "Initializing new session: 11/16/2021 21:42:20\n"
     ]
    }
   ],
   "source": [
    "from Session.Session import seshTrack"
   ]
  },
  {
   "cell_type": "markdown",
   "metadata": {},
   "source": [
    "# When to use Arrays and Deques\n",
    "\n",
    "Important mutable alternatives to lists with examples such as:\n",
    "- array to efficiently hold 10mil floats as packed bytes representing machine vals\n",
    "- deques (double-ended queue) to allow repeated addition or removal of items from either end of a list \n",
    "    - This is a FIFO (first in, first out) data structure \n",
    "        - For queues, another FIFO, this legit means the first in is the first out (oldest processed first)"
   ]
  },
  {
   "cell_type": "markdown",
   "metadata": {},
   "source": [
    "## Arrays\n",
    "\n",
    "array.array is better when dealing with just numbers (restricted to a single type), and w/ same mutable operations as lists\n",
    "- .pop(), .insert(), .remove(), .extend()\n",
    "\n",
    "Also supports fast loading and saving\n",
    "- .frombytes and .tofile\n",
    "\n",
    "Requires a typecode, designating the underlying C type used to store each item in the array\n",
    "- 'b' is signed char, where items in array('b') are stored in a single byte and interpreted as Ints from -128 to 127\n",
    "    - any number above 127 is two bytes\n",
    "\n",
    "Array of double data type is generally a default choice for floats, but this is for another discussion\n",
    "- Important note: it should not be used for precise decimal positions such as that in currency"
   ]
  },
  {
   "cell_type": "code",
   "execution_count": 4,
   "metadata": {},
   "outputs": [
    {
     "name": "stdout",
     "output_type": "stream",
     "text": [
      "Same last vals:  True\n",
      "Same contents in arrays:  True\n"
     ]
    }
   ],
   "source": [
    "# Ex 2-20 creating, saving and loading large array of floats\n",
    "\n",
    "from array import array # imports array type\n",
    "from random import random # imports random() -> x in [0,1)\n",
    "\n",
    "# Create array and save to file\n",
    "floats = array('d', (random() for i in range(10**7))) #store 10^7 random() vals into array of doubles \n",
    "last_float1 = floats[-1] # save last val for comparison\n",
    "fp = open('floats.bin', 'wb') # open new writable file for signed char\n",
    "floats.tofile(fp) # save array to binary file\n",
    "fp.close()\n",
    "\n",
    "# Create new array from reading prev file\n",
    "floats2 = array('d') # empty array of doubles\n",
    "fp = open('floats.bin', 'rb')\n",
    "floats2.fromfile(fp, 10**7) # read 10mil floats from binary file\n",
    "fp.close()\n",
    "last_float2 = floats2[-1] # save last val for comparison\n",
    "print(\"Same last vals: \", last_float1 == last_float2)\n",
    "print(\"Same contents in arrays: \", floats2 == floats)"
   ]
  },
  {
   "cell_type": "markdown",
   "metadata": {},
   "source": [
    "### Example advantages of using array.array\n",
    "- array.fromfile creates a binary file that loads ~60x faster than reading from a textfile\n",
    "- array.tofile creates a file ~7x faster than writing floats into a textfile\n",
    "- size of binary file (in this example) is less than half the size of the textfile with the same contents\n",
    "    - ~80mil bytes vs ~180mil bytes"
   ]
  },
  {
   "cell_type": "code",
   "execution_count": 18,
   "metadata": {},
   "outputs": [
    {
     "name": "stdout",
     "output_type": "stream",
     "text": [
      "**celebratory karate moves**\n",
      "Last edited: 10/28/2021 23:50:40\n"
     ]
    }
   ],
   "source": [
    "seshTrack(\"Last edited:\")"
   ]
  },
  {
   "cell_type": "markdown",
   "metadata": {},
   "source": [
    "## Memory Views\n",
    "- Generalized NumPy array structure that allows you to share memory b/w data structures (PIL imgs, SQLite dbs, NumPy arrays) without first copying\n",
    "    - valuable in handling large datasets\n",
    "- memoryview.cast method\n",
    "    - Similar notation to array module\n",
    "    - changes read/write of multiple bytes w/o moving them around\n",
    "    - returns a memoryview object that always shares the same memory"
   ]
  },
  {
   "cell_type": "code",
   "execution_count": 14,
   "metadata": {},
   "outputs": [
    {
     "data": {
      "text/plain": [
       "array('h', [-2, -1, 1024, 1, 2])"
      ]
     },
     "execution_count": 14,
     "metadata": {},
     "output_type": "execute_result"
    }
   ],
   "source": [
    "# Ex 2-21 Change val of array item by poking one of its bytes\n",
    "from array import array # imports array type\n",
    "\n",
    "numbers = array('h', [-2, -1, 0, 1, 2])\n",
    "memv = memoryview(numbers) # build memview from array of 5 short signed ints (typecode 'h')\n",
    "len(memv)\n",
    "# 5 originally\n",
    "\n",
    "memv[0]\n",
    "# -2 originally, memv should = numbers at this point\n",
    "\n",
    "memv_oct = memv.cast('B') # created new memv_oct by casting eles of memv to typecode 'B' unsigned char\n",
    "memv_oct.tolist() # 254, 255, 255, 255, 0, 0, 1, 0, 2, 0 to list for inspection\n",
    "memv_oct[5] = 4\n",
    "numbers"
   ]
  },
  {
   "cell_type": "markdown",
   "metadata": {},
   "source": [
    "## NumPy and SciPy"
   ]
  },
  {
   "cell_type": "code",
   "execution_count": 15,
   "metadata": {},
   "outputs": [
    {
     "name": "stdout",
     "output_type": "stream",
     "text": [
      "🫵💻📈😀🌎\n",
      "Last edited: 11/16/2021 22:07:04\n"
     ]
    }
   ],
   "source": [
    "seshTrack(\"Last edited:\")"
   ]
  },
  {
   "cell_type": "code",
   "execution_count": null,
   "metadata": {},
   "outputs": [],
   "source": []
  }
 ],
 "metadata": {
  "interpreter": {
   "hash": "daff8f55d46c22d548dcae1214942360c69b01b6ac87629cb546efe561150fa1"
  },
  "kernelspec": {
   "display_name": "Python 3.9.7 64-bit ('Daugherty': conda)",
   "name": "python3"
  },
  "language_info": {
   "codemirror_mode": {
    "name": "ipython",
    "version": 3
   },
   "file_extension": ".py",
   "mimetype": "text/x-python",
   "name": "python",
   "nbconvert_exporter": "python",
   "pygments_lexer": "ipython3",
   "version": "3.9.7"
  },
  "orig_nbformat": 4
 },
 "nbformat": 4,
 "nbformat_minor": 2
}
