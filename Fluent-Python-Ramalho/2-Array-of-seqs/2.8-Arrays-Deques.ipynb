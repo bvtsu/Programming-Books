{
 "cells": [
  {
   "cell_type": "code",
   "execution_count": 1,
   "metadata": {},
   "outputs": [
    {
     "name": "stdout",
     "output_type": "stream",
     "text": [
      "Awwwwwwwwwyeah!\n",
      "Initializing new session: 11/21/2021 09:58:57\n"
     ]
    }
   ],
   "source": [
    "from Session.Session import seshTrack"
   ]
  },
  {
   "cell_type": "markdown",
   "metadata": {},
   "source": [
    "# When to use Arrays and Deques\n",
    "\n",
    "Important mutable alternatives to lists with examples such as:\n",
    "- array to efficiently hold 10mil floats as packed bytes representing machine vals\n",
    "- deques (double-ended queue) to allow repeated addition or removal of items from either end of a list \n",
    "    - This is a FIFO (first in, first out) data structure \n",
    "        - For queues, another FIFO, this legit means the first in is the first out (oldest processed first)"
   ]
  },
  {
   "cell_type": "markdown",
   "metadata": {},
   "source": [
    "## Arrays\n",
    "\n",
    "array.array is better when dealing with just numbers (restricted to a single type), and w/ same mutable operations as lists\n",
    "- .pop(), .insert(), .remove(), .extend()\n",
    "\n",
    "Also supports fast loading and saving\n",
    "- .frombytes and .tofile\n",
    "\n",
    "Requires a typecode, designating the underlying C type used to store each item in the array\n",
    "- 'b' is signed char, where items in array('b') are stored in a single byte and interpreted as Ints from -128 to 127\n",
    "    - any number above 127 is two bytes\n",
    "\n",
    "Array of double data type is generally a default choice for floats, but this is for another discussion\n",
    "- Important note: it should not be used for precise decimal positions such as that in currency"
   ]
  },
  {
   "cell_type": "code",
   "execution_count": 4,
   "metadata": {},
   "outputs": [
    {
     "name": "stdout",
     "output_type": "stream",
     "text": [
      "Same last vals:  True\n",
      "Same contents in arrays:  True\n"
     ]
    }
   ],
   "source": [
    "# Ex 2-20 creating, saving and loading large array of floats\n",
    "\n",
    "from array import array # imports array type\n",
    "from random import random # imports random() -> x in [0,1)\n",
    "\n",
    "# Create array and save to file\n",
    "floats = array('d', (random() for i in range(10**7))) #store 10^7 random() vals into array of doubles \n",
    "last_float1 = floats[-1] # save last val for comparison\n",
    "fp = open('testdata/floats.bin', 'wb') # open new writable file for signed char\n",
    "floats.tofile(fp) # save array to binary file\n",
    "fp.close()\n",
    "\n",
    "# Create new array from reading prev file\n",
    "floats2 = array('d') # empty array of doubles\n",
    "fp = open('testdata/floats.bin', 'rb')\n",
    "floats2.fromfile(fp, 10**7) # read 10mil floats from binary file\n",
    "fp.close()\n",
    "last_float2 = floats2[-1] # save last val for comparison\n",
    "print(\"Same last vals: \", last_float1 == last_float2)\n",
    "print(\"Same contents in arrays: \", floats2 == floats)"
   ]
  },
  {
   "cell_type": "markdown",
   "metadata": {},
   "source": [
    "### Example advantages of using array.array\n",
    "- array.fromfile creates a binary file that loads ~60x faster than reading from a textfile\n",
    "- array.tofile creates a file ~7x faster than writing floats into a textfile\n",
    "- size of binary file (in this example) is less than half the size of the textfile with the same contents\n",
    "    - ~80mil bytes vs ~180mil bytes"
   ]
  },
  {
   "cell_type": "code",
   "execution_count": 18,
   "metadata": {},
   "outputs": [
    {
     "name": "stdout",
     "output_type": "stream",
     "text": [
      "**celebratory karate moves**\n",
      "Last edited: 10/28/2021 23:50:40\n"
     ]
    }
   ],
   "source": [
    "seshTrack(\"Last edited:\")"
   ]
  },
  {
   "cell_type": "markdown",
   "metadata": {},
   "source": [
    "## Memory Views\n",
    "- Generalized NumPy array structure that allows you to share memory b/w data structures (PIL imgs, SQLite dbs, NumPy arrays) without first copying\n",
    "    - valuable in handling large datasets\n",
    "- memoryview.cast method\n",
    "    - Similar notation to array module\n",
    "    - changes read/write of multiple bytes w/o moving them around\n",
    "    - returns a memoryview object that always shares the same memory"
   ]
  },
  {
   "cell_type": "code",
   "execution_count": 14,
   "metadata": {},
   "outputs": [
    {
     "data": {
      "text/plain": [
       "array('h', [-2, -1, 1024, 1, 2])"
      ]
     },
     "execution_count": 14,
     "metadata": {},
     "output_type": "execute_result"
    }
   ],
   "source": [
    "# Ex 2-21 Change val of array item by poking one of its bytes\n",
    "from array import array # imports array type\n",
    "\n",
    "numbers = array('h', [-2, -1, 0, 1, 2])\n",
    "memv = memoryview(numbers) # build memview from array of 5 short signed ints (typecode 'h')\n",
    "len(memv)\n",
    "# 5 originally\n",
    "\n",
    "memv[0]\n",
    "# -2 originally, memv should = numbers at this point\n",
    "\n",
    "memv_oct = memv.cast('B') # created new memv_oct by casting eles of memv to typecode 'B' unsigned char\n",
    "memv_oct.tolist() # 254, 255, 255, 255, 0, 0, 1, 0, 2, 0 to list for inspection\n",
    "memv_oct[5] = 4\n",
    "numbers"
   ]
  },
  {
   "cell_type": "code",
   "execution_count": 15,
   "metadata": {},
   "outputs": [
    {
     "name": "stdout",
     "output_type": "stream",
     "text": [
      "🫵💻📈😀🌎\n",
      "Last edited: 11/16/2021 22:07:04\n"
     ]
    }
   ],
   "source": [
    "seshTrack(\"Last edited:\")"
   ]
  },
  {
   "cell_type": "markdown",
   "metadata": {},
   "source": [
    "## NumPy and SciPy\n",
    "- Major contributors to why Python became popular for scientific computing\n",
    "- NumPy library\n",
    "    - multi-dimensional, homogeneous arrays and matrix types\n",
    "    - can hold numbers or user-defined records\n",
    "    - efficient element-wise operations\n",
    "- SciPy library\n",
    "    - adds to NumPy with scientific computing algorithms from linear algebra, numerical calculus and statistics\n",
    "    - interactive prompt, high-level python APIs, functions optimized in C and Fortran (Fast)"
   ]
  },
  {
   "cell_type": "code",
   "execution_count": 36,
   "metadata": {},
   "outputs": [
    {
     "name": "stdout",
     "output_type": "stream",
     "text": [
      "a: [ 0  1  2  3  4  5  6  7  8  9 10 11]\n",
      "type(a): <class 'numpy.ndarray'>\n",
      "a.shape: (12,)\n",
      "a.shape: (3, 4)\n",
      "reshaped a:\n",
      " [[ 0  1  2  3]\n",
      " [ 4  5  6  7]\n",
      " [ 8  9 10 11]]\n",
      "a[2]: [ 8  9 10 11]\n",
      "a[2,1]: 9\n",
      "a[:,1]: [1 5 9]\n",
      "a.transpose():\n",
      " [[ 0  4  8]\n",
      " [ 1  5  9]\n",
      " [ 2  6 10]\n",
      " [ 3  7 11]]\n"
     ]
    },
    {
     "data": {
      "text/plain": [
       "array([[ 0,  1,  2,  3],\n",
       "       [ 4,  5,  6,  7],\n",
       "       [ 8,  9, 10, 11]])"
      ]
     },
     "execution_count": 36,
     "metadata": {},
     "output_type": "execute_result"
    }
   ],
   "source": [
    "# Ex 2-22 basic operations w/ rows and cols in numpy.ndarray\n",
    "import numpy\n",
    "a = numpy.arange(12) # create 1d array with 12 elements\n",
    "print('a:', a)\n",
    "print('type(a):', type(a))\n",
    "print('a.shape:', a.shape) # num of elements per axis/dimension\n",
    "a.shape = 3, 4 # add one dimension to create 3 rows of 4 elements\n",
    "print('a.shape:', a.shape)\n",
    "print('reshaped a:\\n', a)\n",
    "print('a[2]:',a[2]) #single val indexes the row\n",
    "print('a[2,1]:', a[2,1]) # [x, y] indices access [row, column]\n",
    "print('a[:,1]:', a[:,1]) # all vals in col index 1\n",
    "print('a.transpose():\\n', a.transpose()) #swap columns with rows\n",
    "a.transpose() # does not transpose in place, creates a new array\n",
    "a # for comparison, unchanged\n"
   ]
  },
  {
   "cell_type": "markdown",
   "metadata": {},
   "source": [
    "NumPy supports loading, saving and operation on all elements of a numpy.ndarray.\n",
    "\n",
    "Earlier in this section, the array type holding 10mil floats was stored to and loaded from a bin file (Ex 2-20). Let's approach this now using NumPy."
   ]
  },
  {
   "cell_type": "code",
   "execution_count": 80,
   "metadata": {},
   "outputs": [
    {
     "name": "stdout",
     "output_type": "stream",
     "text": [
      "np_floats[-3:]: [0.6920266  0.97449818 0.80439692]\n",
      "np_floats[-3:]: [0.3460133  0.48724909 0.40219846]\n",
      "Time elapsed(np_floats /= 3):  0.002105124999616237\n",
      "np_floats2[-3:]: [0.6920266  0.97449818 0.80439692]\n",
      "arr_floats[-3:]: array('d', [0.9650237399926022, 0.4984799428406267, 0.9576639769119581])\n",
      "arr_to_np_floats[-3:]: [0.48251187 0.24923997 0.47883199]\n"
     ]
    }
   ],
   "source": [
    "# NumPy saving, loading and operations on numpy.ndarrays\n",
    "import numpy as np\n",
    "from random import random\n",
    "from time import perf_counter as pc\n",
    "\n",
    "np_floats = np.array([random() for i in range(10**7)]) # store 10^7 random() vals into numpy.ndarray\n",
    "print('np_floats[-3:]:', np_floats[-3:]) # inspect last 3 eles\n",
    "np_floats *= 0.5 # multiply every ele by 0.5, could also use /= 2 here\n",
    "print('np_floats[-3:]:',np_floats[-3:]) # inspect\n",
    "\n",
    "t0 = pc() # time zero\n",
    "np_floats /= 3 # divide 10mil eles by 3 in numpy.ndarray\n",
    "print('Time elapsed(np_floats /= 3): ', pc() - t0) # end time - time zero\n",
    "\n",
    "np.save('testdata/floats-10M', np_floats) # save in npy binary file - yes binary\n",
    "np_floats2 = np.load('testdata/floats-10M.npy', 'r+') # load as memory-mapped file into another array*\n",
    "np_floats2 *= 6 # multiplier to offset the *= 0.5 and /= 3\n",
    "print('np_floats2[-3:]:', np_floats2[-3:]) # inspect\n",
    "# *r+ here refers to opening a file for read and write access, with the pointer starting at the beginning of the file\n",
    "\n",
    "# Recall previously array was used, but the array type cannot be subjected to operations as simply as numpy arrays\n",
    "from array import array\n",
    "arr_floats = array('d')\n",
    "fp = open('testdata/floats.bin', 'rb') # must be rb, r and r+ do not work here\n",
    "arr_floats.fromfile(fp, 10**7) # read 10mil floats from binary file\n",
    "fp.close()\n",
    "print('arr_floats[-3:]:', arr_floats[-3:]) # inspect\n",
    "try:\n",
    "    arr_floats *= 0.5 # try operation on array type\n",
    "    print('arr_floats[-3:]', arr_floats[-3:]) # inspect\n",
    "except TypeError:\n",
    "    arr_to_np_floats = np.array(arr_floats) # try conversion to numpy.ndarray\n",
    "    arr_to_np_floats *= 0.5 # try operation again\n",
    "    print('arr_to_np_floats[-3:]:', arr_to_np_floats[-3:]) # inspect\n",
    "\n"
   ]
  },
  {
   "cell_type": "code",
   "execution_count": 81,
   "metadata": {},
   "outputs": [
    {
     "name": "stdout",
     "output_type": "stream",
     "text": [
      "Don't stop believing in yourself!\n",
      "Last edited: 11/18/2021 09:31:49\n"
     ]
    }
   ],
   "source": [
    "seshTrack(\"Last edited:\")"
   ]
  },
  {
   "cell_type": "markdown",
   "metadata": {},
   "source": [
    "## Queues\n",
    "### Treating lists as stacks or queues:\n",
    "- .append\n",
    "    - add an element to the end of a list\n",
    "- .pop\n",
    "    - pop(n) removes the nth index value from the list\n",
    "    - pop(0) removes the earliest (zero) element in the list\n",
    "- Use append + pop(0) for first-in-first-out (FIFO) behavior\n",
    "    - Removing from the left (0-index end) of a list is time costly\n",
    "        - entire list must be shifted\n",
    "    - Deques get around this\n",
    "\n",
    "### Deques\n",
    "- class collections.deque\n",
    "    - double-ended queue for fast inserting and removing from either end\n",
    "    - \"bounded\" deques are valuable for keeping list of \"last seen\" items\n",
    "        - defined max length, where exceeding the max discards items from the opposite end\n",
    "    - .rotate\n",
    "        - if n > 0, take n eles from right end and move to the left end\n",
    "        - if n < 0, take n eles from left end and move to the right end\n",
    "    - .append\n",
    "        - Alternative: .appendleft\n",
    "        - appends a single element to the deque (default: right end)\n",
    "    - .extend\n",
    "        - Alternative: .extendedleft\n",
    "        - successively appends elements to the deque (default: right end)\n",
    "            - this means appending to the left using .extendleft will reverse the input list elements\n",
    "    - .pop\n",
    "        - Alternative: .popleft\n",
    "        - removes an element from the deque (default: right end)\n",
    "    - NOTE: Removal from the middle of the deque is time costly, only use these for appending to and popping from ends\n"
   ]
  },
  {
   "cell_type": "code",
   "execution_count": 19,
   "metadata": {},
   "outputs": [
    {
     "name": "stdout",
     "output_type": "stream",
     "text": [
      "dq: deque([0, 1, 2, 3, 4, 5, 6, 7, 8, 9], maxlen=10)\n",
      "dq.rotate(3): deque([7, 8, 9, 0, 1, 2, 3, 4, 5, 6], maxlen=10)\n",
      "dq.rotate(-4): deque([1, 2, 3, 4, 5, 6, 7, 8, 9, 0], maxlen=10)\n",
      "dq.appendleft(-1): deque([-1, 1, 2, 3, 4, 5, 6, 7, 8, 9], maxlen=10)\n",
      "dq.extend([11, 22, 33]): deque([3, 4, 5, 6, 7, 8, 9, 11, 22, 33], maxlen=10)\n",
      "dq.extendleft([10, 20, 30, 40]): deque([40, 30, 20, 10, 3, 4, 5, 6, 7, 8], maxlen=10)\n",
      "dq.pop(): deque([40, 30, 20, 10, 3, 4, 5, 6, 7], maxlen=10)\n",
      "dq.popleft(): deque([30, 20, 10, 3, 4, 5, 6, 7], maxlen=10)\n"
     ]
    }
   ],
   "source": [
    "# Ex 2-23 Working with a deque\n",
    "\n",
    "from collections import deque\n",
    "dq = deque(range(10), maxlen=10) # deque with max 10 eles, vals 0-9\n",
    "print(\"dq:\", dq)\n",
    "dq.rotate(3) # takes n eles from the right end, and moves to the left end\n",
    "print(\"dq.rotate(3):\", dq)\n",
    "dq.rotate(-4) # takes n eles from the left end, and moves to the right end\n",
    "print(\"dq.rotate(-4):\", dq)\n",
    "dq.appendleft(-1) # appends the ele to the left end of the deque\n",
    "print(\"dq.appendleft(-1):\", dq)\n",
    "dq.extend([11, 22, 33]) # *successively* add each ele to right end\n",
    "print(\"dq.extend([11, 22, 33]):\", dq)\n",
    "dq.extendleft([10, 20, 30, 40]) # *successively* add each ele to left end\n",
    "print(\"dq.extendleft([10, 20, 30, 40]):\", dq)\n",
    "dq.pop() # removes rightmost\n",
    "print(\"dq.pop():\", dq)\n",
    "dq.popleft() # removes leftmost\n",
    "print(\"dq.popleft():\", dq)"
   ]
  },
  {
   "cell_type": "markdown",
   "metadata": {},
   "source": [
    "### Other Python standard library packages implementing queues (REVISIT THIS)\n",
    "#### queue\n",
    "- synchronized (thread-safe) classes Queue, LifoQueue, and PriorityQueue\n",
    "- used for safe communication b/w threads\n",
    "- can be bounded to a maxsize\n",
    "    - they do not discard items to make room\n",
    "    - when queue is full, insertion of a new item is blocked\n",
    "        - waits until some other thread makes room/takes an item from the queue\n",
    "        - useful to throttle number of live threads\n",
    "\n",
    "#### multiprocessing\n",
    "- implements bounded Queue, similar to queue.Queue\n",
    "    - designed for interprocess communication\n",
    "- See specialized multiprocessing.JoinableQueue for task management\n",
    "\n",
    "#### asyncio (Python 3.4)\n",
    "- provides Queue, LifoQueue, PriorityQueue, and JoinableQueue with APIs inspired by classes contained in the queue and multiprocessing modules\n",
    "    - adapted for managing tasks in asynchronous programming\n",
    "#### heapq\n",
    "- does not implement a queue class\n",
    "- provides fxns like heappush and heappop\n",
    "    - allows use of a mutable sequence as a heap queue or priority queue"
   ]
  },
  {
   "cell_type": "code",
   "execution_count": 20,
   "metadata": {},
   "outputs": [
    {
     "name": "stdout",
     "output_type": "stream",
     "text": [
      "Ayyyyyyy! Well done!\n",
      "Last edited: 11/21/2021 10:45:48\n"
     ]
    }
   ],
   "source": [
    "seshTrack(\"Last edited:\")"
   ]
  }
 ],
 "metadata": {
  "interpreter": {
   "hash": "daff8f55d46c22d548dcae1214942360c69b01b6ac87629cb546efe561150fa1"
  },
  "kernelspec": {
   "display_name": "Python 3.9.7 64-bit ('Daugherty': conda)",
   "name": "python3"
  },
  "language_info": {
   "codemirror_mode": {
    "name": "ipython",
    "version": 3
   },
   "file_extension": ".py",
   "mimetype": "text/x-python",
   "name": "python",
   "nbconvert_exporter": "python",
   "pygments_lexer": "ipython3",
   "version": "3.9.7"
  },
  "orig_nbformat": 4
 },
 "nbformat": 4,
 "nbformat_minor": 2
}
