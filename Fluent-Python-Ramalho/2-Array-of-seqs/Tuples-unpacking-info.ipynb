{
 "cells": [
  {
   "cell_type": "markdown",
   "source": [
    "## Tuples are not just immutable lists"
   ],
   "metadata": {}
  },
  {
   "cell_type": "markdown",
   "source": [
    "Tuples are commonly thought of as immutable lists. Expanding their role, they're also useful as records with no field names."
   ],
   "metadata": {}
  },
  {
   "cell_type": "markdown",
   "source": [
    "### Tuples as records\n",
    "Use tuples when you want each item in the tuple to hold data for one field, where the position holds meaning. In the following example (Ex2.7), the meaning of the data enclosed in tuples is given by its position in the tuple and if sorted, would lose information. To pull these records while retaining their information, we can \"unpack\" the tuples to variables."
   ],
   "metadata": {}
  },
  {
   "cell_type": "code",
   "execution_count": 34,
   "source": [
    "#Parallel assignment\n",
    "lax_coordinates = (33.9425, -118.408056) #latitude, longitude\n",
    "lat, long = lax_coordinates #Tuple unpacking by parallel assignment #1; specific to given var order\n",
    "\n",
    "city, year, pop, chg, area = ('Tokyo', 2003, 32450, 0.66, 8014) #Parallel assignment #2\n",
    "\n",
    "#Unpacking with for loop+print()\n",
    "traveler_ids = [('USA', '31195855'), ('BRA','CE342567'),\n",
    "    ('ESP','XDA205856')] #in the form of country_code, passport_num\n",
    "for passport in sorted(traveler_ids): #iterate using variable that refers to two items per tuple ele\n",
    "    print('%s/%s' % passport) #Unpacking with print()\n",
    "                              #Note: % w/ tuples treats each item as a sep field; must match exact num of items\n",
    "                              #What about .format()? Doesn't seem to work\n",
    "\n",
    "#Unpacking with for loop\n",
    "for country, _ in traveler_ids: #unpacking the tuple with a for loop, _ = dummy variable for throwaway items\n",
    "    print(country)\n",
    "\n",
    "#Unpacking application to swap variables without using a temp var\n",
    "a = 30\n",
    "b = 1000\n",
    "print(\"Original tuple:\", (a, b))\n",
    "b, a = a, b\n",
    "print(\"Swapped via tuple unpacking:\", (a, b))\n",
    "\n",
    "#Unpacking using * star as an argument\n",
    "divmod(20, 8) # = (2, 4)\n",
    "t = (20, 8)\n",
    "divmod(*t) # using *, also = (2, 4)\n",
    "quotient, remainder = divmod(*t) #unpack parallel assignment using *\n",
    "print((quotient, remainder))"
   ],
   "outputs": [
    {
     "output_type": "stream",
     "name": "stdout",
     "text": [
      "BRA/CE342567\n",
      "ESP/XDA205856\n",
      "USA/31195855\n",
      "USA\n",
      "BRA\n",
      "ESP\n",
      "Original tuple: (30, 1000)\n",
      "Swapped via tuple unpacking: (1000, 30)\n",
      "(2, 4)\n"
     ]
    }
   ],
   "metadata": {}
  },
  {
   "cell_type": "markdown",
   "source": [
    "Tuple unpacking can be used to increase the convenience of other functions such as os.path.split(), which builds a tuple (path, last_part) from a filesystem path:"
   ],
   "metadata": {}
  },
  {
   "cell_type": "code",
   "execution_count": 39,
   "source": [
    "import os\n",
    "_, filename = os.path.split('/home/bri/.ssh/idrsa.pub') #dummy var for path; assign only last_part to a meaningful var\n",
    "filename"
   ],
   "outputs": [
    {
     "output_type": "execute_result",
     "data": {
      "text/plain": [
       "'idrsa.pub'"
      ]
     },
     "metadata": {},
     "execution_count": 39
    }
   ],
   "metadata": {}
  },
  {
   "cell_type": "markdown",
   "source": [
    "### Caution: When writing internationalized software, _ is not a good dummy var... _ is used as an alias for text.gettext"
   ],
   "metadata": {}
  }
 ],
 "metadata": {
  "orig_nbformat": 4,
  "language_info": {
   "name": "python",
   "version": "3.9.7",
   "mimetype": "text/x-python",
   "codemirror_mode": {
    "name": "ipython",
    "version": 3
   },
   "pygments_lexer": "ipython3",
   "nbconvert_exporter": "python",
   "file_extension": ".py"
  },
  "kernelspec": {
   "name": "python3",
   "display_name": "Python 3.9.7 64-bit ('Daugherty': conda)"
  },
  "interpreter": {
   "hash": "fbae935fb48667cdad60896ab9fb99ec19eb103ea1ab74c375af631ee811078c"
  }
 },
 "nbformat": 4,
 "nbformat_minor": 2
}