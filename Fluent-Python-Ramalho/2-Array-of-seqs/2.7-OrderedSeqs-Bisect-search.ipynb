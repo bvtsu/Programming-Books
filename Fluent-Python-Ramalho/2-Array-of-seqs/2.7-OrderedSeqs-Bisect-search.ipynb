{
 "cells": [
  {
   "cell_type": "markdown",
   "source": [
    "Two bisect module functions that use binary search algorithm to find and insert items into sorted seqs\n",
    "- bisect(haystack, needle, optional lo = 0, optional hi = len(haystack))\n",
    "    - binary search for needle in haystack (sortedseq)\n",
    "    - locates position for needle insertion in haystack in ascending order\n",
    "        - all items appearing up to this position are < or = needle\n",
    "    - output of bisect(haystack, needle) can be used as index argument to haystack.insert(index, needle)... but just use insort (does both, and faster)\n",
    "    - also known as bisect_right -- when needle comparison is equal to an item, returns insertion point after the existing item\n",
    "    - see below for differences between bisect_right and sister function bisect_left (important in cases such as with 1 and 1.0)\n",
    "- insort()\n",
    "\n",
    "NOTE [ Date Completed ]: See Raymond Hettinger's more user-friendly Sorted Collection recipe leveraging the bisect module."
   ],
   "metadata": {}
  },
  {
   "cell_type": "code",
   "execution_count": 52,
   "source": [
    "#Ex2-17 using bisect with carefully chosen needles, straight from fluentpython/example-code\n",
    "\n",
    "# BEGIN BISECT_DEMO\n",
    "import bisect\n",
    "import sys\n",
    "\n",
    "HAYSTACK = [1, 4, 5, 6, 8, 12, 15, 20, 21, 23, 23, 26, 29, 30]\n",
    "NEEDLES = [0, 1, 2, 5, 8, 10, 22, 23, 29, 30, 31]\n",
    "\n",
    "ROW_FMT = '{0:2d} @ {1:2d}    {2}{0:<2d}' # 1st ref 2d, 2nd ref 2d, 3rd ref no changes, 1st ref again <2d (left-align)\n",
    "# I don't think d does anything... revisit this 10/12/2021\n",
    "# EXTRA: You can pad 0's to the fixed width by adjusting 2d to 02d in format\n",
    "\n",
    "def demo(bisect_fn):\n",
    "    for needle in reversed(NEEDLES): # iterate in reversed order, 31 is first here\n",
    "        position = bisect_fn(HAYSTACK, needle)  # <1> needle 31 is pos 14, 30 is position 14, 29 is position 13 [...]\n",
    "        offset = position * '  |'  # <2> pattern of vertical bars proportional to offset (aligns with haystack 2d)\n",
    "        print(ROW_FMT.format(needle, position, offset))  # <3> print formatted row w/ needle and insertion point\n",
    "\n",
    "if __name__ == '__main__':\n",
    "\n",
    "    if sys.argv[-1] == 'left':    # <4> Test this out... chooses fxn based on last cmdline argument\n",
    "        bisect_fn = bisect.bisect_left\n",
    "    else:\n",
    "        bisect_fn = bisect.bisect\n",
    "\n",
    "    print('DEMO:', bisect_fn.__name__)  # <5> print header with name of function\n",
    "    print('haystack ->', ' '.join('%2d' % n for n in HAYSTACK))\n",
    "    demo(bisect_fn)"
   ],
   "outputs": [
    {
     "output_type": "stream",
     "name": "stdout",
     "text": [
      "DEMO: bisect_right\n",
      "haystack ->  1  4  5  6  8 12 15 20 21 23 23 26 29 30\n",
      "31 @ 14      |  |  |  |  |  |  |  |  |  |  |  |  |  |31\n",
      "30 @ 14      |  |  |  |  |  |  |  |  |  |  |  |  |  |30\n",
      "29 @ 13      |  |  |  |  |  |  |  |  |  |  |  |  |29\n",
      "23 @ 11      |  |  |  |  |  |  |  |  |  |  |23\n",
      "22 @  9      |  |  |  |  |  |  |  |  |22\n",
      "10 @  5      |  |  |  |  |10\n",
      " 8 @  5      |  |  |  |  |8 \n",
      " 5 @  3      |  |  |5 \n",
      " 2 @  1      |2 \n",
      " 1 @  1      |1 \n",
      " 0 @  0    0 \n"
     ]
    }
   ],
   "metadata": {}
  },
  {
   "cell_type": "code",
   "execution_count": 53,
   "source": [
    "#Ex2-17 specifying bisect_left\n",
    "\n",
    "# BEGIN BISECT_DEMO\n",
    "import bisect\n",
    "import sys\n",
    "\n",
    "HAYSTACK = [1, 4, 5, 6, 8, 12, 15, 20, 21, 23, 23, 26, 29, 30]\n",
    "NEEDLES = [0, 1, 2, 5, 8, 10, 22, 23, 29, 30, 31]\n",
    "\n",
    "ROW_FMT = '{0:2d} @ {1:2d}    {2}{0:<2d}' # 1st ref 2d, 2nd ref 2d, 3rd ref no changes, 1st ref again <2d (left-align)\n",
    "# I don't think d does anything... revisit this 10/12/2021\n",
    "# EXTRA: You can pad 0's to the fixed width by adjusting 2d to 02d in format\n",
    "\n",
    "def demo(bisect_fn):\n",
    "    for needle in reversed(NEEDLES): # iterate in reversed order, 31 is first here\n",
    "        position = bisect_fn(HAYSTACK, needle)  # <1> needle 31 is pos 14, 30 is position 14, 29 is position 13 [...]\n",
    "        offset = position * '  |'  # <2> pattern of vertical bars proportional to offset (aligns with haystack 2d)\n",
    "        print(ROW_FMT.format(needle, position, offset))  # <3> print formatted row w/ needle and insertion point\n",
    "\n",
    "if __name__ == '__main__':\n",
    "\n",
    "    if sys.argv[-1] == 'left':    # <4> Test this out... chooses fxn based on last cmdline argument\n",
    "        bisect_fn = bisect.bisect_left\n",
    "    else:\n",
    "        bisect_fn = bisect.bisect_left #forcing bisect_left in jupyter\n",
    "\n",
    "    print('DEMO:', bisect_fn.__name__)  # <5> print header with name of function\n",
    "    print('haystack ->', ' '.join('%2d' % n for n in HAYSTACK))\n",
    "    demo(bisect_fn)"
   ],
   "outputs": [
    {
     "output_type": "stream",
     "name": "stdout",
     "text": [
      "DEMO: bisect_left\n",
      "haystack ->  1  4  5  6  8 12 15 20 21 23 23 26 29 30\n",
      "31 @ 14      |  |  |  |  |  |  |  |  |  |  |  |  |  |31\n",
      "30 @ 13      |  |  |  |  |  |  |  |  |  |  |  |  |30\n",
      "29 @ 12      |  |  |  |  |  |  |  |  |  |  |  |29\n",
      "23 @  9      |  |  |  |  |  |  |  |  |23\n",
      "22 @  9      |  |  |  |  |  |  |  |  |22\n",
      "10 @  5      |  |  |  |  |10\n",
      " 8 @  4      |  |  |  |8 \n",
      " 5 @  2      |  |5 \n",
      " 2 @  1      |2 \n",
      " 1 @  0    1 \n",
      " 0 @  0    0 \n"
     ]
    }
   ],
   "metadata": {}
  },
  {
   "cell_type": "markdown",
   "source": [],
   "metadata": {}
  }
 ],
 "metadata": {
  "orig_nbformat": 4,
  "language_info": {
   "name": "python",
   "version": "3.9.7",
   "mimetype": "text/x-python",
   "codemirror_mode": {
    "name": "ipython",
    "version": 3
   },
   "pygments_lexer": "ipython3",
   "nbconvert_exporter": "python",
   "file_extension": ".py"
  },
  "kernelspec": {
   "name": "python3",
   "display_name": "Python 3.9.7 64-bit ('Daugherty': conda)"
  },
  "interpreter": {
   "hash": "fbae935fb48667cdad60896ab9fb99ec19eb103ea1ab74c375af631ee811078c"
  }
 },
 "nbformat": 4,
 "nbformat_minor": 2
}