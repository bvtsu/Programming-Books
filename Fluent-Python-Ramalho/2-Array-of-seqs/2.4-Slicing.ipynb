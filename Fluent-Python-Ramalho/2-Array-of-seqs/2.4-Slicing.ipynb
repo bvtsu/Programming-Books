{
 "cells": [
  {
   "cell_type": "markdown",
   "source": [
    "# Slices\n",
    "## Slices and Ranges exclude the last item\n",
    "Some basics:\n",
    "- range(3) and my_list[:3] both produce 3 items\n",
    "- stop - start gets length of slice or range, e.g. len(my_list[:3] - my_list[:1]) = 2\n",
    "- easy to split sequences into two parts with my_list[:x] and my_list[x:]\n",
    "    - e.g. l = [10, 20, 30, 40, 50], where l[:2] = [10, 20], and l[2:] = everything else\n",
    "- in my_list[a:b:c], c corresponds to the stride of the slice range in question"
   ],
   "metadata": {}
  },
  {
   "cell_type": "code",
   "execution_count": 4,
   "source": [
    "s = 'bicycle'\n",
    "print(s[::3]) #stride 3, [0] = b, [3] = y, [6] = e\n",
    "print(s[::-1]) #stride 1 in reverse direction\n",
    "print(s[::-2]) #stride 2 in reverse direction, [-1] = e, [-3] = c, [-5] = c, [-7] = b"
   ],
   "outputs": [
    {
     "output_type": "stream",
     "name": "stdout",
     "text": [
      "bye\n",
      "elcycib\n",
      "eccb\n"
     ]
    }
   ],
   "metadata": {}
  },
  {
   "cell_type": "markdown",
   "source": [
    "To evaluate my_list[a:b:c] where a, b, c correspond to start, stop, step, Python calls my_list.__getitem__(slice(start, stop, step)). This becomes important when dealing with slice objects later on. For now, we observe slice() in action with this flat-file invoice in Ex2-11."
   ],
   "metadata": {}
  },
  {
   "cell_type": "code",
   "execution_count": 3,
   "source": [
    "invoice = \"\"\"\n",
    "0.....6.................................40........52...55........\n",
    "1909   Pimoroni PiBrella                    $17.50    3    $52.50\n",
    "1489   6mm Tactile Switch x20                $4.95    2     $9.90\n",
    "\"\"\"\n",
    "#setting slice start and stop\n",
    "SKU = slice(0, 6)\n",
    "DESCRIPTION = slice (6, 40)\n",
    "UNIT_PRICE = slice(40, 52)\n",
    "QUANTITY = slice(52, 55)\n",
    "ITEM_TOTAL = slice(55, None) #ending at None grabs the last value.. using -1 doesn't\n",
    "line_items = invoice.split('\\n')[2:] #skip first two lines and split lines by newline\n",
    "for item in line_items: #for each line corresponding to an item\n",
    "    print(item[UNIT_PRICE], item[DESCRIPTION], item[SKU], item[QUANTITY], item[ITEM_TOTAL])"
   ],
   "outputs": [
    {
     "output_type": "stream",
     "name": "stdout",
     "text": [
      "    $17.50    Pimoroni PiBrella                 1909     3     $52.50\n",
      "     $4.95    6mm Tactile Switch x20            1489     2      $9.90\n",
      "    \n"
     ]
    }
   ],
   "metadata": {}
  },
  {
   "cell_type": "markdown",
   "source": [
    "## Multidimensional slicing and ellipsis\n",
    "[] operator can also take multiple indexes or slices separated by commas.\n",
    "Examples - Numpy package: \n",
    "- a[i, j] for fetching items in a 2-D array\n",
    "- a[m:n, k:l] for fetching 2-D slice\n",
    "- These indices are handled by __getitem__ and __setitem__ special methods as tuples\n",
    "    - a[i, j] is evaluated by calling a.__getitem__((i, j))\n",
    "\n",
    "I'll glide over the uses of ellipses (and multidimensional slicing) -- additional details can be found on pg38 of the book."
   ],
   "metadata": {}
  },
  {
   "cell_type": "markdown",
   "source": [
    "## Assigning to slices\n",
    "Mutable sequences can be grafted, excised, and otherwise modified in place using slice notation on either: \n",
    "- the left side of an assignment statement (var = x where var is on the left) \n",
    "- or as the target of a del statement\n",
    "\n",
    "Note: When the target of the assignment is a slice, the right side MUST be an iteable, even if it's just one item\n",
    "\n",
    "See below:"
   ],
   "metadata": {}
  },
  {
   "cell_type": "code",
   "execution_count": 5,
   "source": [
    "l = list(range(10)) #fill list with 0-9\n",
    "print(l)\n",
    "l[2:5] = [20, 30] #replace eles at indices 2-4 with ints 20 and 30\n",
    "print(l)\n",
    "del l[5:7] #delete eles at indices 5-6, ints 6 and 7\n",
    "print(l)\n",
    "l[3::2] = [11, 22] #replace eles at indices 3 and 5 (3+2), ints 30 and 8, with ints 11 and 12\n",
    "print(l)\n",
    "try:\n",
    "    l[2:5] = 100 #intentional fail, see TypeError\n",
    "except TypeError:\n",
    "    print(\"TypeError: can only assign an iterable\")\n",
    "l[2:5] = [100]\n",
    "print(l)\n"
   ],
   "outputs": [
    {
     "output_type": "stream",
     "name": "stdout",
     "text": [
      "[0, 1, 2, 3, 4, 5, 6, 7, 8, 9]\n",
      "[0, 1, 20, 30, 5, 6, 7, 8, 9]\n",
      "[0, 1, 20, 30, 5, 8, 9]\n",
      "[0, 1, 20, 11, 5, 22, 9]\n",
      "TypeError: can only assign an iterable\n",
      "[0, 1, 100, 22, 9]\n"
     ]
    }
   ],
   "metadata": {}
  },
  {
   "cell_type": "markdown",
   "source": [],
   "metadata": {}
  }
 ],
 "metadata": {
  "orig_nbformat": 4,
  "language_info": {
   "name": "python",
   "version": "3.9.7",
   "mimetype": "text/x-python",
   "codemirror_mode": {
    "name": "ipython",
    "version": 3
   },
   "pygments_lexer": "ipython3",
   "nbconvert_exporter": "python",
   "file_extension": ".py"
  },
  "kernelspec": {
   "name": "python3",
   "display_name": "Python 3.9.7 64-bit ('Daugherty': conda)"
  },
  "interpreter": {
   "hash": "fbae935fb48667cdad60896ab9fb99ec19eb103ea1ab74c375af631ee811078c"
  }
 },
 "nbformat": 4,
 "nbformat_minor": 2
}