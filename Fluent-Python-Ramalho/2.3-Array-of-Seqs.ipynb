{
 "cells": [
  {
   "cell_type": "markdown",
   "source": [
    "# Overview of built-in seqs\n",
    "Introducing sequence types that are ready for use in Python -- to build your own, see Ch10 notes...\n",
    "\n",
    "Strings, lists, byte seqs, arrays, XML elements, and database results share operations such as iteration, slicing, sorting, and concatenation"
   ],
   "metadata": {}
  },
  {
   "cell_type": "markdown",
   "source": [
    "## Seq types\n",
    "Container seqs (lists, tuple, collections.deque) hold items of diff types -- these items are references to objects they contain\n",
    "\n",
    "Flat seqs (str, bytes, bytearray, memoryview, and array.array) hold items of one type only -- these are physically placed in their own memory space, not as distinct objects. They are more compact, but limited to type like characters, bytes, numbers.\n",
    "\n",
    "Mutable seqs (list, bytearray, array.array, collections.deque, memoryview) are objects whose values can change after they've been created.\n",
    "\n",
    "Immutable seqs (tuple, str, bytes) are objects whose values can't change after they've been created."
   ],
   "metadata": {}
  },
  {
   "cell_type": "markdown",
   "source": [
    "## List comprehension (listcomps) and generator expressions (genexps)\n",
    "These allow you to write faster code and are more readable."
   ],
   "metadata": {}
  },
  {
   "cell_type": "code",
   "execution_count": 13,
   "source": [
    "#Difference between building up an existing list vs. building a new list\n",
    "#Building up an existing list\n",
    "symbols='!@#$%^*' #initial string of chars\n",
    "codes=[] #build empty list to contain char vals\n",
    "for s in symbols: #iterate through string\n",
    "    codes.append(ord(s)) #ord returns an integer representing the unicode char\n",
    "print(\"Ex2.1:\",codes)\n",
    "\n",
    "#Building a new list\n",
    "symbols='!@#$%^*' #initial string of chars\n",
    "codes = [ord(s) for s in symbols]\n",
    "print(\"Ex2.2:\",codes)"
   ],
   "outputs": [
    {
     "output_type": "stream",
     "name": "stdout",
     "text": [
      "Ex2.1: [33, 64, 35, 36, 37, 94, 42]\n",
      "Ex2.2: [33, 64, 35, 36, 37, 94, 42]\n"
     ]
    }
   ],
   "metadata": {}
  },
  {
   "cell_type": "markdown",
   "source": [
    "In Python 3, listcomps do not leak variables, they are local and do not mask the variables from the surrounding scope"
   ],
   "metadata": {}
  },
  {
   "cell_type": "code",
   "execution_count": 11,
   "source": [
    "x = 'my precious'\n",
    "dummy = [ord(x) for x in 'ABC']\n",
    "print(x) #X is not replaced by A->B->C as a result of the listcomp\n",
    "dummy #listcomp produces the expected list"
   ],
   "outputs": [
    {
     "output_type": "stream",
     "name": "stdout",
     "text": [
      "my precious\n"
     ]
    },
    {
     "output_type": "execute_result",
     "data": {
      "text/plain": [
       "[65, 66, 67]"
      ]
     },
     "metadata": {},
     "execution_count": 11
    }
   ],
   "metadata": {}
  },
  {
   "cell_type": "markdown",
   "source": [
    "Use listcomps over lamba functions for readability. They can be faster in some cases (with mathematical inequality checks). More about lamba functions in Ch5."
   ],
   "metadata": {}
  },
  {
   "cell_type": "code",
   "execution_count": 17,
   "source": [
    "symbols='$¢£¥€¤' #initial string of chars\n",
    "beyond_ascii = [ord(s) for s in symbols if ord(s) > 127]\n",
    "print(beyond_ascii)\n",
    "\n",
    "symbols='$¢£¥€¤' #initial string of chars\n",
    "beyond_ascii = list(filter(lambda c: c > 127, map(ord,symbols)))\n",
    "print(beyond_ascii)"
   ],
   "outputs": [
    {
     "output_type": "stream",
     "name": "stdout",
     "text": [
      "[162, 163, 165, 8364, 164]\n",
      "[162, 163, 165, 8364, 164]\n"
     ]
    }
   ],
   "metadata": {}
  },
  {
   "cell_type": "code",
   "execution_count": 33,
   "source": [
    "#Speedtest\n",
    "import timeit\n",
    "\n",
    "TIMES = 10000 #num of executions\n",
    "\n",
    "SETUP = \"\"\"\n",
    "symbols = '$¢£¥€¤'\n",
    "def non_ascii(c):\n",
    "    return c > 127\n",
    "\"\"\" #defines symbols and non-ascii() for use in test\n",
    "\n",
    "def clock(label, cmd):\n",
    "    res = timeit.repeat(cmd, setup=SETUP, number=TIMES) #store time taken for 10000 executions, repeated 5 times by default\n",
    "    print(label, *('{:.3f}'.format(x) for x in res)) #round to 3 places after the decimal pt in Floating point decimal format\n",
    "\n",
    "clock('listcomp        :', '[ord(s) for s in symbols if ord(s) > 127]') #listcomp > 127\n",
    "clock('listcomp + func :', '[ord(s) for s in symbols if non_ascii(ord(s))]') #listcomp non_ascii()\n",
    "clock('filter + lambda :', 'list(filter(lambda c: c > 127, map(ord, symbols)))') #lambda > 127\n",
    "clock('filter + func   :', 'list(filter(non_ascii, map(ord, symbols)))') #lambda non_ascii()"
   ],
   "outputs": [
    {
     "output_type": "stream",
     "name": "stdout",
     "text": [
      "listcomp        : 0.008 0.007 0.007 0.007 0.007\n",
      "listcomp + func : 0.010 0.010 0.010 0.010 0.010\n",
      "filter + lambda : 0.008 0.008 0.008 0.008 0.008\n",
      "filter + func   : 0.008 0.008 0.008 0.008 0.008\n"
     ]
    }
   ],
   "metadata": {}
  }
 ],
 "metadata": {
  "orig_nbformat": 4,
  "language_info": {
   "name": "python",
   "version": "3.9.7",
   "mimetype": "text/x-python",
   "codemirror_mode": {
    "name": "ipython",
    "version": 3
   },
   "pygments_lexer": "ipython3",
   "nbconvert_exporter": "python",
   "file_extension": ".py"
  },
  "kernelspec": {
   "name": "python3",
   "display_name": "Python 3.9.7 64-bit ('Daugherty': conda)"
  },
  "interpreter": {
   "hash": "fbae935fb48667cdad60896ab9fb99ec19eb103ea1ab74c375af631ee811078c"
  }
 },
 "nbformat": 4,
 "nbformat_minor": 2
}