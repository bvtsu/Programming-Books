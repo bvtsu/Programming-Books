{
 "cells": [
  {
   "cell_type": "code",
   "execution_count": 14,
   "source": [
    "from math import hypot #hypotenuse\n",
    "\n",
    "class Vector:\n",
    "    def __init__(self, x=0, y=0): #default x and y = 0\n",
    "        self.x = x #x-val\n",
    "        self.y = y #y-val\n",
    "\n",
    "    def __repr__(self): #Vector(x, y)\n",
    "        '''return str representation of Vector\n",
    "        >>> repr(Vector(2,1))\n",
    "        'Vector(2, 1)'\n",
    "        '''\n",
    "        #return 'Vector(%r, %r)' % (self.x, self.y) #using %\n",
    "        return 'Vector({}, {})'.format(self.x, self.y) #using str.format\n",
    "\n",
    "    def __abs__(self): #Vector(x, y)\n",
    "        '''return hypotenuse/Euclid dist of coordinates\n",
    "        >>> abs(Vector(3, 4))\n",
    "        5.0\n",
    "        '''\n",
    "        return hypot(self.x, self.y)\n",
    "    \n",
    "    def __bool__(self): #Vector(x, y)\n",
    "        '''return False if Vector magnitude = 0, True otherwise\n",
    "        >>> bool(abs(Vector(3, 4)))\n",
    "        True\n",
    "        >>> bool(abs(Vector(0, 0)))\n",
    "        False\n",
    "        '''\n",
    "        return bool(abs(self)) #Faster version is bool(self.x or self.y), skips abs()\n",
    "\n",
    "    def __add__(self, other): #Vector(x1, y1) + Vector(x2, y2)\n",
    "        '''return Vector of added vals\n",
    "        >>> Vector(2, 4) + Vector(2, 1)\n",
    "        Vector(4, 5)\n",
    "        '''\n",
    "        x = self.x + other.x #x1+x2\n",
    "        y = self.y + other.y #y1+y2\n",
    "        return Vector(x,y)\n",
    "\n",
    "    def __mul__(self, scalar): #Vector(x, y) * scalar\n",
    "        '''return Vector with multiplied x and y vals\n",
    "        >>> Vector(3, 4) * 3\n",
    "        Vector(9, 12)\n",
    "        '''\n",
    "        return Vector(self.x * scalar, self.y * scalar)"
   ],
   "outputs": [],
   "metadata": {}
  },
  {
   "cell_type": "code",
   "execution_count": 15,
   "source": [
    "import doctest\n",
    "\n",
    "doctest.testmod(verbose=True) #verbose=True or empty"
   ],
   "outputs": [
    {
     "output_type": "stream",
     "name": "stdout",
     "text": [
      "Trying:\n",
      "    abs(Vector(3, 4))\n",
      "Expecting:\n",
      "    5.0\n",
      "ok\n",
      "Trying:\n",
      "    Vector(2, 4) + Vector(2, 1)\n",
      "Expecting:\n",
      "    Vector(4, 5)\n",
      "ok\n",
      "Trying:\n",
      "    bool(abs(Vector(3, 4)))\n",
      "Expecting:\n",
      "    True\n",
      "ok\n",
      "Trying:\n",
      "    bool(abs(Vector(0, 0)))\n",
      "Expecting:\n",
      "    False\n",
      "ok\n",
      "Trying:\n",
      "    Vector(3, 4) * 3\n",
      "Expecting:\n",
      "    Vector(9, 12)\n",
      "ok\n",
      "Trying:\n",
      "    repr(Vector(2,1))\n",
      "Expecting:\n",
      "    'Vector(2, 1)'\n",
      "ok\n",
      "3 items had no tests:\n",
      "    __main__\n",
      "    __main__.Vector\n",
      "    __main__.Vector.__init__\n",
      "5 items passed all tests:\n",
      "   1 tests in __main__.Vector.__abs__\n",
      "   1 tests in __main__.Vector.__add__\n",
      "   2 tests in __main__.Vector.__bool__\n",
      "   1 tests in __main__.Vector.__mul__\n",
      "   1 tests in __main__.Vector.__repr__\n",
      "6 tests in 8 items.\n",
      "6 passed and 0 failed.\n",
      "Test passed.\n"
     ]
    },
    {
     "output_type": "execute_result",
     "data": {
      "text/plain": [
       "TestResults(failed=0, attempted=6)"
      ]
     },
     "metadata": {},
     "execution_count": 15
    }
   ],
   "metadata": {}
  }
 ],
 "metadata": {
  "orig_nbformat": 4,
  "language_info": {
   "name": "python",
   "version": "3.9.7",
   "mimetype": "text/x-python",
   "codemirror_mode": {
    "name": "ipython",
    "version": 3
   },
   "pygments_lexer": "ipython3",
   "nbconvert_exporter": "python",
   "file_extension": ".py"
  },
  "kernelspec": {
   "name": "python3",
   "display_name": "Python 3.9.7 64-bit ('Daugherty': conda)"
  },
  "interpreter": {
   "hash": "fbae935fb48667cdad60896ab9fb99ec19eb103ea1ab74c375af631ee811078c"
  }
 },
 "nbformat": 4,
 "nbformat_minor": 2
}