{
 "cells": [
  {
   "cell_type": "markdown",
   "source": [
    "Build FrenchDeck class"
   ],
   "metadata": {}
  },
  {
   "cell_type": "code",
   "execution_count": 93,
   "source": [
    "import collections\n",
    "\n",
    "Card = collections.namedtuple('Card', ['rank', 'suit'])\n",
    "\n",
    "class FrenchDeck: #as this is written, it is immutable. As a result, the rank, suit order cannot be shuffled in place.\n",
    "    ranks = [str(n) for n in range(2, 11)] + list('JQKA') #list of all cards in a deck, 2-10+JQKA in str type\n",
    "    suits = 'spades diamonds clubs hearts'.split() #list of all suits in str type\n",
    "\n",
    "    def __init__(self):\n",
    "        '''Initiate FrenchDeck as a list of Card(rank, suit) formatted elements\n",
    "        >>> Card('Q','hearts') in deck\n",
    "        True\n",
    "        '''\n",
    "        self._cards = [Card(rank, suit) for suit in self.suits\n",
    "                                        for rank in self.ranks]\n",
    "    def __len__(self):\n",
    "        '''Return len() of FrenchDeck\n",
    "        >>> len(FrenchDeck())\n",
    "        52\n",
    "        '''\n",
    "        return len(self._cards)\n",
    "    def __getitem__(self, position):\n",
    "        '''Return indexed elements from FrenchDeck\n",
    "        >>> deck[0]\n",
    "        Card(rank='2', suit='spades')\n",
    "        >>> deck[12::13]\n",
    "        [Card(rank='A', suit='spades'), Card(rank='A', suit='diamonds'), Card(rank='A', suit='clubs'), Card(rank='A', suit='hearts')]\n",
    "        '''\n",
    "        return self._cards[position]\n",
    "\n",
    "suit_values = dict(spades=3, hearts=2, diamonds=1, clubs=0) #Use dict to set rankings, higher num = higher rank\n",
    "def spades_high(card):\n",
    "    '''Spades high returns rank value * 4 * suit value, where suit value is determined by the preceding dict\n",
    "    >>> spades_high(Card('2', 'spades'))\n",
    "    3\n",
    "    >>> spades_high(Card('A', 'hearts'))\n",
    "    50\n",
    "    '''\n",
    "    rank_value = FrenchDeck.ranks.index(card.rank) #For the rank of a given card (2-10, JQKA), where 2 is 0, 3 is 1, etc...\n",
    "    return rank_value * len(suit_values) + suit_values[card.suit]"
   ],
   "outputs": [],
   "metadata": {}
  },
  {
   "cell_type": "markdown",
   "source": [
    "Call doctest to test special methods \"__len__\" and \"__getitem__\" and associated functions"
   ],
   "metadata": {}
  },
  {
   "cell_type": "code",
   "execution_count": 94,
   "source": [
    "import doctest\n",
    "doctest.testmod() #alternatively, verbose=True for full report"
   ],
   "outputs": [
    {
     "output_type": "execute_result",
     "data": {
      "text/plain": [
       "TestResults(failed=0, attempted=6)"
      ]
     },
     "metadata": {},
     "execution_count": 94
    }
   ],
   "metadata": {}
  },
  {
   "cell_type": "markdown",
   "source": [
    "Printing usage of special methods \"__len__\" and \"__getitem__\""
   ],
   "metadata": {}
  },
  {
   "cell_type": "code",
   "execution_count": 97,
   "source": [
    "deck = FrenchDeck()\n",
    "print(len(deck)) #__len__ size 52\n",
    "print(deck[0]) #__getitem__ first ele 2, spades\n",
    "print(deck[-1]) #__getitem__ last ele A, hearts\n",
    "print(deck[::8]) #__getitem__ Slice by starting at zeroth ele, then skipping 8 cards at a time\n",
    "print(deck[12::13]) #__getitem__ Slice by starting at 12th ele, then skipping 13 cards at a time\n",
    "#for card in deck: #In python console, you can call at end of line  # doctest: +ELLIPSIS to simplify output\n",
    "#    print(card)\n",
    "#for card in reversed(deck): # doctest: +ELLIPSIS\n",
    "#    print(card)\n",
    "#for card in sorted(deck,key=spades_high):  # doctest: +ELLIPSIS\n",
    "#    print(card)"
   ],
   "outputs": [
    {
     "output_type": "stream",
     "name": "stdout",
     "text": [
      "52\n",
      "Card(rank='2', suit='spades')\n",
      "Card(rank='A', suit='hearts')\n",
      "[Card(rank='2', suit='spades'), Card(rank='10', suit='spades'), Card(rank='5', suit='diamonds'), Card(rank='K', suit='diamonds'), Card(rank='8', suit='clubs'), Card(rank='3', suit='hearts'), Card(rank='J', suit='hearts')]\n",
      "[Card(rank='A', suit='spades'), Card(rank='A', suit='diamonds'), Card(rank='A', suit='clubs'), Card(rank='A', suit='hearts')]\n"
     ]
    }
   ],
   "metadata": {}
  },
  {
   "cell_type": "markdown",
   "source": [
    "Applying functions from Python standard library"
   ],
   "metadata": {}
  },
  {
   "cell_type": "code",
   "execution_count": 102,
   "source": [
    "from random import choice #Choice selects a random item from a sequence/list\n",
    "\n",
    "print(choice(deck)) #random ele from list"
   ],
   "outputs": [
    {
     "output_type": "stream",
     "name": "stdout",
     "text": [
      "Card(rank='A', suit='hearts')\n"
     ]
    }
   ],
   "metadata": {}
  },
  {
   "cell_type": "code",
   "execution_count": null,
   "source": [],
   "outputs": [],
   "metadata": {}
  }
 ],
 "metadata": {
  "orig_nbformat": 4,
  "language_info": {
   "name": "python",
   "version": "3.9.6",
   "mimetype": "text/x-python",
   "codemirror_mode": {
    "name": "ipython",
    "version": 3
   },
   "pygments_lexer": "ipython3",
   "nbconvert_exporter": "python",
   "file_extension": ".py"
  },
  "kernelspec": {
   "name": "python3",
   "display_name": "Python 3.9.6 64-bit ('Daugherty': conda)"
  },
  "interpreter": {
   "hash": "fbae935fb48667cdad60896ab9fb99ec19eb103ea1ab74c375af631ee811078c"
  }
 },
 "nbformat": 4,
 "nbformat_minor": 2
}